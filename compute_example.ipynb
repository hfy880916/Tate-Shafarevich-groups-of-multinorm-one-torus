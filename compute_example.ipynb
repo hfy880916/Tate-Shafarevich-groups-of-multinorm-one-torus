{
 "cells": [
  {
   "cell_type": "markdown",
   "id": "b0c9fe44",
   "metadata": {},
   "source": [
    "$L = K_0 \\times \\dotsb K_m$, where each $K_i/k$ is a cyclic extension of number field with degree $p^{\\epsilon_i}$. These fields satisfies that\n",
    "* $K_i \\not\\subset K_j$ for all $i, j$.\n",
    "* $\\cap_{i \\in \\mathcal{I}'} K_i = k$.\n",
    "* $e_i \\geq e_{i+1}$."
   ]
  },
  {
   "cell_type": "markdown",
   "id": "36012e55",
   "metadata": {},
   "source": [
    "Input: the cyclic extensions $K_1, \\dotsc K_m$ and $k$.\n",
    "\n",
    "Ouput: the groups $Ш(k, \\hat{T}_{L/k})$ and $Ш_{\\omega}(k, \\hat{T}_{L/k})$."
   ]
  },
  {
   "cell_type": "markdown",
   "id": "1e224ff8",
   "metadata": {},
   "source": [
    "# Inputs"
   ]
  },
  {
   "cell_type": "code",
   "execution_count": 1,
   "id": "6a398618",
   "metadata": {},
   "outputs": [],
   "source": [
    "# use example 7.4\n",
    "m = 2\n",
    "I = [i for i in range(1, m+1)]\n",
    "I_prime = [i for i in range(0, m+1)]"
   ]
  },
  {
   "cell_type": "code",
   "execution_count": 2,
   "id": "50adc97b",
   "metadata": {},
   "outputs": [],
   "source": [
    "k = NumberField(x^2 + 1, 'i')"
   ]
  },
  {
   "cell_type": "code",
   "execution_count": 3,
   "id": "1fa9c74c",
   "metadata": {},
   "outputs": [],
   "source": [
    "K = [0] * (m+1)"
   ]
  },
  {
   "cell_type": "code",
   "execution_count": 4,
   "id": "4fe23e0c",
   "metadata": {},
   "outputs": [],
   "source": [
    "K[0] = k.extension(x^4 - 17, 'a0')"
   ]
  },
  {
   "cell_type": "code",
   "execution_count": 5,
   "id": "3990ff6d",
   "metadata": {},
   "outputs": [],
   "source": [
    "K[1] = k.extension(x^4 - 221, 'a1')"
   ]
  },
  {
   "cell_type": "code",
   "execution_count": 6,
   "id": "ff133c79",
   "metadata": {},
   "outputs": [],
   "source": [
    "K[2] = k.extension(x^4 - 13, 'a2')"
   ]
  },
  {
   "cell_type": "code",
   "execution_count": 7,
   "id": "fa071916",
   "metadata": {},
   "outputs": [],
   "source": [
    "p = 2"
   ]
  },
  {
   "cell_type": "markdown",
   "id": "88936ae6",
   "metadata": {},
   "source": [
    "Find $\\epsilon_i$, where $p^{\\epsilon_i} = [K_i:k]$."
   ]
  },
  {
   "cell_type": "code",
   "execution_count": 8,
   "id": "8cd54682",
   "metadata": {},
   "outputs": [],
   "source": [
    "from sage.functions.log import logb\n",
    "epsilon = [logb(K[i].absolute_degree()/k.absolute_degree(), p) for i in range(0, m+1)]"
   ]
  },
  {
   "cell_type": "code",
   "execution_count": 9,
   "id": "02c70e22",
   "metadata": {},
   "outputs": [
    {
     "data": {
      "text/plain": [
       "[log(4)/log(2), log(4)/log(2), log(4)/log(2)]"
      ]
     },
     "execution_count": 9,
     "metadata": {},
     "output_type": "execute_result"
    }
   ],
   "source": [
    "epsilon"
   ]
  },
  {
   "cell_type": "markdown",
   "id": "90430b78",
   "metadata": {},
   "source": [
    "Find $e_i$ and $e_{i, j}$, where $p^{e_i} = [K_0 K_i : K_i]$ and $p^{e_{i, j}} = [K_i \\cap K_j: k]$."
   ]
  },
  {
   "cell_type": "code",
   "execution_count": 10,
   "id": "0e8aadbe",
   "metadata": {},
   "outputs": [],
   "source": [
    "e_ij = [\n",
    "    [epsilon[i] - int(logb(K[i].composite_fields(K[j])[0].absolute_degree()/K[j].absolute_degree(), p))\n",
    "     for j in range(0, m+1)]\n",
    "    for i in range(0, m+1)\n",
    "]"
   ]
  },
  {
   "cell_type": "code",
   "execution_count": 11,
   "id": "980ce250",
   "metadata": {},
   "outputs": [
    {
     "data": {
      "text/plain": [
       "[[log(4)/log(2), log(4)/log(2) - 2, log(4)/log(2) - 2],\n",
       " [log(4)/log(2) - 2, log(4)/log(2), log(4)/log(2) - 2],\n",
       " [log(4)/log(2) - 2, log(4)/log(2) - 2, log(4)/log(2)]]"
      ]
     },
     "execution_count": 11,
     "metadata": {},
     "output_type": "execute_result"
    }
   ],
   "source": [
    "e_ij"
   ]
  },
  {
   "cell_type": "code",
   "execution_count": 12,
   "id": "ff06ac4f",
   "metadata": {},
   "outputs": [],
   "source": [
    "e_i = [epsilon[0] - e_ij[0][i] for i in range(0, m+1)]"
   ]
  },
  {
   "cell_type": "code",
   "execution_count": 13,
   "id": "01061f7b",
   "metadata": {},
   "outputs": [
    {
     "data": {
      "text/plain": [
       "[0, 2, 2]"
      ]
     },
     "execution_count": 13,
     "metadata": {},
     "output_type": "execute_result"
    }
   ],
   "source": [
    "e_i"
   ]
  },
  {
   "cell_type": "markdown",
   "id": "c7276da5",
   "metadata": {},
   "source": [
    "$R = \\{i \\in \\mathcal{I}'\\mid U_i \\neq \\varnothing\\}$, where $U_r = \\{i \\in \\mathcal{I} \\mid e_{0, i} = r\\}$."
   ]
  },
  {
   "cell_type": "code",
   "execution_count": 14,
   "id": "714693da",
   "metadata": {},
   "outputs": [],
   "source": [
    "def U(r):\n",
    "    result = []\n",
    "    for i in I:\n",
    "        if e_ij[0][i] == r:\n",
    "            result.append(i)\n",
    "    return result\n",
    "\n",
    "R = []\n",
    "for i in I_prime:\n",
    "    if len(U(i)) > 0:\n",
    "        R.append(i)"
   ]
  },
  {
   "cell_type": "code",
   "execution_count": 15,
   "id": "a707c9bd",
   "metadata": {},
   "outputs": [
    {
     "data": {
      "text/plain": [
       "[0]"
      ]
     },
     "execution_count": 15,
     "metadata": {},
     "output_type": "execute_result"
    }
   ],
   "source": [
    "R"
   ]
  },
  {
   "cell_type": "code",
   "execution_count": 16,
   "id": "a5177d15",
   "metadata": {},
   "outputs": [
    {
     "data": {
      "text/plain": [
       "[1, 2]"
      ]
     },
     "execution_count": 16,
     "metadata": {},
     "output_type": "execute_result"
    }
   ],
   "source": [
    "U(0)"
   ]
  },
  {
   "cell_type": "code",
   "execution_count": 17,
   "id": "7db56c06",
   "metadata": {},
   "outputs": [
    {
     "data": {
      "text/plain": [
       "[]"
      ]
     },
     "execution_count": 17,
     "metadata": {},
     "output_type": "execute_result"
    }
   ],
   "source": [
    "U(1)"
   ]
  },
  {
   "cell_type": "code",
   "execution_count": 18,
   "id": "7f8b9991",
   "metadata": {},
   "outputs": [
    {
     "data": {
      "text/plain": [
       "[]"
      ]
     },
     "execution_count": 18,
     "metadata": {},
     "output_type": "execute_result"
    }
   ],
   "source": [
    "U(2)"
   ]
  },
  {
   "cell_type": "markdown",
   "id": "e39b4e95",
   "metadata": {},
   "source": [
    "$L(U_r) = \\min\\{\\log_p[K_i \\cap K_j: k] \\mid \\forall i, j \\in U_r\\}$"
   ]
  },
  {
   "cell_type": "code",
   "execution_count": 19,
   "id": "19809e5b",
   "metadata": {},
   "outputs": [],
   "source": [
    "def L(U):\n",
    "    r = []\n",
    "    for i in U:\n",
    "        for j in U:\n",
    "            r.append(e_ij[i][j])\n",
    "    if len(r) > 0:\n",
    "        return min(r)\n",
    "    else:\n",
    "        return 'The set is empty!'"
   ]
  },
  {
   "cell_type": "code",
   "execution_count": 20,
   "id": "a63cfcf0",
   "metadata": {},
   "outputs": [
    {
     "data": {
      "text/plain": [
       "log(4)/log(2) - 2"
      ]
     },
     "execution_count": 20,
     "metadata": {},
     "output_type": "execute_result"
    }
   ],
   "source": [
    "L(U(0))"
   ]
  },
  {
   "cell_type": "markdown",
   "id": "167d3ba6",
   "metadata": {},
   "source": [
    "On a subset $C \\subset \\mathcal{I}'$, we can define an equivalence relation $\\sim_{\\ell}$ by\n",
    "$$i \\sim_{\\ell} j \\Leftrightarrow e_{ij} \\geq l.$$\n",
    "The number $n_{\\ell}(C)$ is the number of equivalence classes with respect to $C/\\sim_{\\ell}$."
   ]
  },
  {
   "cell_type": "code",
   "execution_count": 21,
   "id": "541fcef2",
   "metadata": {},
   "outputs": [],
   "source": [
    "def equiv(i, j, l):\n",
    "    return e_ij[i][j] >= l or i == j"
   ]
  },
  {
   "cell_type": "code",
   "execution_count": 22,
   "id": "0b11370b",
   "metadata": {},
   "outputs": [],
   "source": [
    "def equiv_classes(C, l):\n",
    "    # return a list of equivalence classes with respect to C/l\n",
    "    d = {}\n",
    "    for i in C:\n",
    "        connected_vertices = []\n",
    "        for j in C:\n",
    "            if i != j and equiv(i, j, l):\n",
    "                connected_vertices.append(j)\n",
    "        d[i] = connected_vertices\n",
    "    G = Graph(d)\n",
    "    return G.connected_components()"
   ]
  },
  {
   "cell_type": "code",
   "execution_count": 23,
   "id": "9749d86f",
   "metadata": {},
   "outputs": [
    {
     "data": {
      "text/plain": [
       "[[0, 1, 2]]"
      ]
     },
     "execution_count": 23,
     "metadata": {},
     "output_type": "execute_result"
    }
   ],
   "source": [
    "equiv_classes(I_prime, 0)"
   ]
  },
  {
   "cell_type": "code",
   "execution_count": 24,
   "id": "9ed66201",
   "metadata": {
    "scrolled": true
   },
   "outputs": [
    {
     "data": {
      "text/plain": [
       "[[0], [1], [2]]"
      ]
     },
     "execution_count": 24,
     "metadata": {},
     "output_type": "execute_result"
    }
   ],
   "source": [
    "equiv_classes(I_prime, 1)"
   ]
  },
  {
   "cell_type": "code",
   "execution_count": 25,
   "id": "4ca34100",
   "metadata": {},
   "outputs": [],
   "source": [
    "def n(l, C):\n",
    "    d = {}\n",
    "    for i in C:\n",
    "        connected_vertices = []\n",
    "        for j in C:\n",
    "            if i != j and equiv(i, j, l):\n",
    "                connected_vertices.append(j)\n",
    "        d[i] = connected_vertices\n",
    "    G = Graph(d)\n",
    "    return G.connected_components_number()"
   ]
  },
  {
   "cell_type": "markdown",
   "id": "e5280692",
   "metadata": {},
   "source": [
    "For a cyclic extension $K_i$ of degree $p^{\\epsilon_i}$, we denote by $K_i(f)$ the unique subfield of $K_i$ of degree $p^f$ (p4)."
   ]
  },
  {
   "cell_type": "code",
   "execution_count": 26,
   "id": "72ef7eda",
   "metadata": {},
   "outputs": [],
   "source": [
    "def is_subfield(k, K):\n",
    "    # check that if k is a subfield of K\n",
    "    # assume k is Galois\n",
    "    R.<x> = PolynomialRing(K)\n",
    "    f = R(k.polynomial())\n",
    "    l = list(f.factor())\n",
    "    flag = True\n",
    "    for factor in l:\n",
    "        if factor[0].degree() != 1:\n",
    "            flag = False\n",
    "            break\n",
    "    return flag"
   ]
  },
  {
   "cell_type": "code",
   "execution_count": 27,
   "id": "c02a7852",
   "metadata": {},
   "outputs": [],
   "source": [
    "def K_cyclic_subfield(i, d):\n",
    "    # return the field K_i(d)\n",
    "    L_list = K[i].subfields(p^d * k.degree())\n",
    "    subfield_list = [subfield[0] for subfield in L_list]\n",
    "    for subfield in subfield_list:\n",
    "        if is_subfield(k, subfield):\n",
    "            return subfield"
   ]
  },
  {
   "cell_type": "code",
   "execution_count": 28,
   "id": "d12cd5e4",
   "metadata": {},
   "outputs": [
    {
     "data": {
      "text/plain": [
       "Number Field in a0_0 with defining polynomial x^4 + 8*x^3 - 104*x^2 - 480*x + 4688"
      ]
     },
     "execution_count": 28,
     "metadata": {},
     "output_type": "execute_result"
    }
   ],
   "source": [
    "K_cyclic_subfield(0, 1)"
   ]
  },
  {
   "cell_type": "markdown",
   "id": "09cb78c9",
   "metadata": {},
   "source": [
    "For a nonempty subset $C \\subseteq \\mathcal{I}$ and an integer $d \\geq 0$, we define the field $M_C(d)$ to be the composite field $\\langle K_i(d) \\rangle_{i \\in C}$."
   ]
  },
  {
   "cell_type": "code",
   "execution_count": 29,
   "id": "53efead1",
   "metadata": {},
   "outputs": [],
   "source": [
    "def M_composite(C, d):\n",
    "    result = k\n",
    "    for i in C:\n",
    "        result = result.composite_fields(K_cyclic_subfield(i, d))[0]\n",
    "    result = k.composite_fields(result)[0]\n",
    "    return result"
   ]
  },
  {
   "cell_type": "markdown",
   "id": "f1bcfe0e",
   "metadata": {},
   "source": [
    "Testing"
   ]
  },
  {
   "cell_type": "code",
   "execution_count": 30,
   "id": "5ba36ea0",
   "metadata": {
    "scrolled": false
   },
   "outputs": [
    {
     "data": {
      "text/plain": [
       "[1, 2]"
      ]
     },
     "execution_count": 30,
     "metadata": {},
     "output_type": "execute_result"
    }
   ],
   "source": [
    "I"
   ]
  },
  {
   "cell_type": "code",
   "execution_count": 31,
   "id": "dec30adf",
   "metadata": {
    "scrolled": true
   },
   "outputs": [
    {
     "data": {
      "text/plain": [
       "Number Field in a1_0 with defining polynomial x^4 + 8*x^3 - 1736*x^2 - 7008*x + 781520"
      ]
     },
     "execution_count": 31,
     "metadata": {},
     "output_type": "execute_result"
    }
   ],
   "source": [
    "K_cyclic_subfield(1, 1)"
   ]
  },
  {
   "cell_type": "code",
   "execution_count": 32,
   "id": "b0d0e596",
   "metadata": {},
   "outputs": [
    {
     "data": {
      "text/plain": [
       "Number Field in a2_0 with defining polynomial x^4 + 8*x^3 - 72*x^2 - 352*x + 2768"
      ]
     },
     "execution_count": 32,
     "metadata": {},
     "output_type": "execute_result"
    }
   ],
   "source": [
    "K_cyclic_subfield(2, 1)"
   ]
  },
  {
   "cell_type": "markdown",
   "id": "a33fc0a8",
   "metadata": {},
   "source": [
    "## Definition 4.1.\n",
    "The *algebraic patching degree* $\\Delta^{\\omega}_r$ of $U_r$ is the maximum nonnegative integer $d$ satisfying the following:\n",
    "1. If $U_{>r}$ is nonempty, then $M_{U_{>r}}(d) \\subset \\cap_{i \\in U_r} K_0(d) K_i(d)$.\n",
    "2. If $U_{<r}$ is nonempty, then $M_{U_r}(d) \\subset \\cap_{i \\in U_{<r}} K_0(d) K_i(d)$.\n",
    "\n",
    "If $U_r = \\mathcal{I}$, then we set $\\Delta^{\\omega}_r = \\epsilon_0$.\n",
    "\n",
    "Here $U_{> r} = \\{i \\in \\mathcal{I} \\mid e_{0, i} > r\\}$ and $U_{< r} = \\{i \\in \\mathcal{I} \\mid e_{0, i} < r\\}$. (p.13)"
   ]
  },
  {
   "cell_type": "code",
   "execution_count": 33,
   "id": "5f570aa5",
   "metadata": {},
   "outputs": [],
   "source": [
    "def U_greater(r):\n",
    "    result = []\n",
    "    for i in I:\n",
    "        if e_ij[0][i] > r:\n",
    "            result.append(i)\n",
    "    return result\n",
    "\n",
    "def U_smaller(r):\n",
    "    result = []\n",
    "    for i in I:\n",
    "        if e_ij[0][i] < r:\n",
    "            result.append(i)\n",
    "    return result"
   ]
  },
  {
   "cell_type": "code",
   "execution_count": 34,
   "id": "7a2a2220",
   "metadata": {},
   "outputs": [],
   "source": [
    "def Delta_omega(r):\n",
    "    # the algebraic patching degree of U_r\n",
    "    U_r = U(r)\n",
    "    if U_r == I:\n",
    "        return epsilon[0]\n",
    "    \n",
    "    U_greater_r = U_greater(r)\n",
    "    U_smaller_r = U_smaller(r)\n",
    "    \n",
    "    flag_1 = bool(len(U_greater(r)) > 0)\n",
    "    flag_2 = bool(len(U_smaller(r)) > 0)\n",
    "    \n",
    "    for d in range(r, epsilon[0]+1):\n",
    "        d_satisfy = True\n",
    "        \n",
    "        if flag_1:\n",
    "            for i in U_r:\n",
    "                temp_field = K_cyclic_subfield(0, d).composite_fields(K_cyclic_subfield(i, d))[0]\n",
    "                if not is_subfield(M_composite(U_greater_r, d), temp_field):\n",
    "                    d_satisfy = False\n",
    "                    break\n",
    "        if flag_2:\n",
    "            for i in U_smaller_r:\n",
    "                temp_field = K_cyclic_subfield(0, d).composite_fields(K_cyclic_subfield(i, d))[0]\n",
    "                if not is_subfield(M_composite(U_r, d), temp_field):\n",
    "                    d_satisfy = False\n",
    "                    break\n",
    "        if not d_satisfy:\n",
    "            return d-1\n",
    "    return epsilon[0]"
   ]
  },
  {
   "cell_type": "code",
   "execution_count": 35,
   "id": "56daf6eb",
   "metadata": {},
   "outputs": [
    {
     "data": {
      "text/plain": [
       "log(4)/log(2)"
      ]
     },
     "execution_count": 35,
     "metadata": {},
     "output_type": "execute_result"
    }
   ],
   "source": [
    "Delta_omega(0)"
   ]
  },
  {
   "cell_type": "markdown",
   "id": "4a42525c",
   "metadata": {},
   "source": [
    "A finite Galois extension $F$ of $k$ is said to be *locally cyclic* at $v$ if $F \\otimes_k k_v$ is a product of cyclic extensions of $k_v$. $F$ is said to be *locally cyclic* if it is locally cyclic at all $v \\in \\Omega_k$. (p2)"
   ]
  },
  {
   "cell_type": "code",
   "execution_count": 36,
   "id": "d79171b6",
   "metadata": {},
   "outputs": [],
   "source": [
    "temp_k.<s> = NumberField(x^2 + 1)"
   ]
  },
  {
   "cell_type": "code",
   "execution_count": 37,
   "id": "16722c9a",
   "metadata": {},
   "outputs": [
    {
     "data": {
      "text/plain": [
       "<class 'sage.rings.number_field.number_field.NumberField_quadratic_with_category'>"
      ]
     },
     "execution_count": 37,
     "metadata": {},
     "output_type": "execute_result"
    }
   ],
   "source": [
    "type(temp_k)"
   ]
  },
  {
   "cell_type": "code",
   "execution_count": 38,
   "id": "abca0f50",
   "metadata": {},
   "outputs": [
    {
     "data": {
      "text/plain": [
       "<class 'sage.rings.number_field.number_field_rel.NumberField_relative_with_category'>"
      ]
     },
     "execution_count": 38,
     "metadata": {},
     "output_type": "execute_result"
    }
   ],
   "source": [
    "temp_K.<t> = temp_k.extension(x^3 + 7)\n",
    "type(temp_K)"
   ]
  },
  {
   "cell_type": "code",
   "execution_count": 39,
   "id": "af761280",
   "metadata": {},
   "outputs": [
    {
     "data": {
      "text/plain": [
       "t"
      ]
     },
     "execution_count": 39,
     "metadata": {},
     "output_type": "execute_result"
    }
   ],
   "source": [
    "t"
   ]
  },
  {
   "cell_type": "code",
   "execution_count": 40,
   "id": "2e9d4d0f",
   "metadata": {
    "scrolled": false
   },
   "outputs": [
    {
     "data": {
      "text/plain": [
       "<class 'sage.rings.number_field.number_field.NumberField_absolute_with_category'>"
      ]
     },
     "execution_count": 40,
     "metadata": {},
     "output_type": "execute_result"
    }
   ],
   "source": [
    "type(temp_K.absolute_field('w'))"
   ]
  },
  {
   "cell_type": "code",
   "execution_count": 41,
   "id": "fc984353",
   "metadata": {},
   "outputs": [
    {
     "data": {
      "text/plain": [
       "Number Field in w with defining polynomial x^6 + 3*x^4 + 14*x^3 + 3*x^2 - 42*x + 50"
      ]
     },
     "execution_count": 41,
     "metadata": {},
     "output_type": "execute_result"
    }
   ],
   "source": [
    "temp_K.absolute_field('w')"
   ]
  },
  {
   "cell_type": "code",
   "execution_count": 42,
   "id": "10440481",
   "metadata": {
    "scrolled": true
   },
   "outputs": [],
   "source": [
    "def is_locally_cyclic(F):\n",
    "    if is_subfield(F, k):\n",
    "        return True\n",
    "    \n",
    "    F_abs.<w> = F.absolute_field()\n",
    "    k_gen = (x^2 + 1).roots(ring = F_abs, multiplicities = False)[0]\n",
    "    G_abs = F_abs.galois_group()\n",
    "    rel_disc = k.ideal(F.relative_discriminant())\n",
    "    temp_list = list(F.ideal(rel_disc).factor())\n",
    "    # temp_list[0] = (P, n)\n",
    "    ramified_primes_above = [item[0] for item in temp_list]\n",
    "    \n",
    "    # check for each ramified places\n",
    "    result = True\n",
    "    for P in ramified_primes_above:\n",
    "        try:\n",
    "            P_abs = P.absolute_ideal(w)\n",
    "        except:\n",
    "            print(F)\n",
    "            print(F.base_field())\n",
    "            \n",
    "        abs_decomp = G_abs.decomposition_group(P_abs)\n",
    "        rel_decomp = []\n",
    "        for g in abs_decomp:\n",
    "            if g(k_gen) == k_gen:\n",
    "                rel_decomp.append(g)\n",
    "        rel_decomp = abs_decomp.subgroup(rel_decomp)\n",
    "        if not rel_decomp.is_cyclic():\n",
    "            result = False\n",
    "            break\n",
    "    return result"
   ]
  },
  {
   "cell_type": "markdown",
   "id": "8eadaaea",
   "metadata": {},
   "source": [
    "## Definition 4.9.\n",
    "Define the *patching degree* $\\Delta_r$ of $U_r$ to be the maximum nonnegative integer $d \\leq \\Delta^{\\omega}_r$ satisfying the following:\n",
    "1. If $U_{>r}$ is nonempty, then the field $K_0(d) M_{U_{> r}}(d)$ is locally cyclic.\n",
    "2. If $U_{<r}$ is nonempty, then the field $K_0(d) M_{U_r}(d)$ is locally cyclic.\n",
    "\n",
    "If $U_r = \\mathcal{I}$, we set $\\Delta_r = \\epsilon_0$.\n",
    "We have $\\Delta^{\\omega}_r \\geq \\Delta_r \\geq r$."
   ]
  },
  {
   "cell_type": "code",
   "execution_count": 43,
   "id": "59d1ce94",
   "metadata": {},
   "outputs": [],
   "source": [
    "def Delta(r):\n",
    "    U_r = U(r)\n",
    "    if U_r == I:\n",
    "        return epsilon[0]\n",
    "    \n",
    "    Delta_omega_r = Delta_omega(r)\n",
    "    U_greater_r = U_greater(r)\n",
    "    U_smaller_r = U_smaller(r)\n",
    "    \n",
    "    flag_1 = bool(len(U_greater_r) > 0)\n",
    "    flag_2 = bool(len(U_smaller_r) > 0)\n",
    "    \n",
    "    for d in range(r, Delta_omega_r+1):\n",
    "        d_satisfy = True\n",
    "        \n",
    "        if flag_1:\n",
    "            M_U_greater_r_d = M_composite(U_greater_r, d)\n",
    "            temp_field = K_cyclic_subfield(0, d).composite_fields(M_U_greater_r_d)[0]\n",
    "            if not is_locally_cyclic(temp_field):\n",
    "                d_satisfy = False\n",
    "            \n",
    "        if flag_2:\n",
    "            M_U_r_d = M_composite(U_r, d)\n",
    "            temp_field = K_cyclic_subfield(0, d).composite_fields(M_U_r_d)[0]\n",
    "            if not is_locally_cyclic(temp_field):\n",
    "                d_satisfy = False\n",
    "                \n",
    "        if not d_satisfy:\n",
    "            return d-1\n",
    "    return Delta_omega_r"
   ]
  },
  {
   "cell_type": "markdown",
   "id": "2038869f",
   "metadata": {},
   "source": [
    "A *bicyclic extension* $F/k$ is a Galois extension with $\\mathrm{Gal}(F/k)$ isomorphic to $\\mathbb{Z}/n_1 \\mathbb{Z} \\times \\mathbb{Z}/n_2 \\mathbb{Z}$ where $n_1, n_2 > 1$ and $n_2 \\mid n_1$. (p2)\n",
    "\n",
    "I think that this can be checked by looking at the numbers of elementary divisors of $\\mathrm{Gal}(F/k)$: if there are more than $2$ elementary divisor then $F/k$ is not a bicyclic extension."
   ]
  },
  {
   "cell_type": "code",
   "execution_count": 44,
   "id": "8ca42c71",
   "metadata": {},
   "outputs": [
    {
     "data": {
      "text/plain": [
       "x^2 + 1"
      ]
     },
     "execution_count": 44,
     "metadata": {},
     "output_type": "execute_result"
    }
   ],
   "source": [
    "k.polynomial()"
   ]
  },
  {
   "cell_type": "code",
   "execution_count": 45,
   "id": "43b3e25f",
   "metadata": {},
   "outputs": [],
   "source": [
    "def is_bicyclic(F):\n",
    "    L.<w> = F.absolute_field()\n",
    "    G = L.galois_group()\n",
    "    k_gal = []\n",
    "    k_gen = k.polynomial().roots(ring = L, multiplicities = False)[0]\n",
    "    for g in G:\n",
    "        try:\n",
    "            if g(k_gen) == k_gen:\n",
    "                k_gal.append(g)\n",
    "        except:\n",
    "            print(f\"I can't handle when F is the field {F}.\")\n",
    "    Gal_F_k = G.subgroup(k_gal)\n",
    "    \n",
    "    \n",
    "    if Gal_F_k.is_abelian():\n",
    "        Gal_fin_present = Gal_F_k.as_finitely_presented_group(reduced = True)\n",
    "        gen_orders = [a for a in Gal_fin_present.abelian_invariants()]\n",
    "        return len(AbelianGroup(gen_orders).elementary_divisors()) <= 2\n",
    "    else:\n",
    "        return False"
   ]
  },
  {
   "cell_type": "code",
   "execution_count": 46,
   "id": "9a35e2b9",
   "metadata": {
    "scrolled": true
   },
   "outputs": [
    {
     "data": {
      "text/plain": [
       "True"
      ]
     },
     "execution_count": 46,
     "metadata": {},
     "output_type": "execute_result"
    }
   ],
   "source": [
    "is_bicyclic(K[0])"
   ]
  },
  {
   "cell_type": "markdown",
   "id": "21828e54",
   "metadata": {},
   "source": [
    "convert absolute field to relative number field"
   ]
  },
  {
   "cell_type": "code",
   "execution_count": 47,
   "id": "28f8a04f",
   "metadata": {
    "scrolled": true
   },
   "outputs": [],
   "source": [
    "def abs_to_rel(F):\n",
    "    R.<x> = PolynomialRing(k)\n",
    "    p = R(F.polynomial())\n",
    "    l = list(p.factor)\n",
    "    F_rel.<v> = k.extension(l[0][0])\n",
    "    return F_rel"
   ]
  },
  {
   "cell_type": "markdown",
   "id": "3b3ba88e",
   "metadata": {},
   "source": [
    "## Definition 5.3\n",
    "For a nonempty $U_r$, let $l_r = L(U_r)$. Let $f \\leq \\Delta^{\\omega}_r$ be a nonnegative integer satisfying the following:\n",
    "1. The field $M_{U_r}(f + l_r - r)$ is a subfield of a bicyclic extension.\n",
    "2. $K_0(f) \\subset M_{U_r}(f + l_r - r)$.\n",
    "Then we set $f^{\\omega}_{U_r}$ to be the largest $f \\leq \\Delta^{\\omega}_r$ satisfying above conditions. We call $f^{\\omega}_{U_r}$ the *algebraic degree of freedom* of $U_r$.\n",
    "\n",
    "## Remark 5.4\n",
    "We have $\\Delta^{\\omega}_r \\geq f^{\\omega}_{U_r} \\geq r$."
   ]
  },
  {
   "cell_type": "markdown",
   "id": "4b379165",
   "metadata": {},
   "source": [
    "For $h \\geq L(U_r)$ and a class $c_0$ of $U_r/\\sim_h$, we define by recursion *the algebraic degree of freedom* of $c \\in c_0/\\sim_{h+1}$ as follows.\n",
    "## Definition 5.5\n",
    "Keep the notation defined as above. Let $f \\leq f^{\\omega}_{c_0}$ be a non-negative integer satisfying the following:\n",
    "1. The field $M_c(f + L(c) - r)$ is a subfield of a bicyclic extension.\n",
    "2. $K_0(f) \\subset M_c(f + L(c) - r)$.\n",
    "Then we set $f^{\\omega}_c$ to be the largest $f \\leq f^{\\omega}_{c_0}$ satisfying above conditions. We call $f^{\\omega}_c$ the *algebraic degree of freedom* of $c$."
   ]
  },
  {
   "cell_type": "code",
   "execution_count": 48,
   "id": "1784f004",
   "metadata": {},
   "outputs": [],
   "source": [
    "f_omega_c = {}"
   ]
  },
  {
   "cell_type": "code",
   "execution_count": 49,
   "id": "f87486d6",
   "metadata": {
    "scrolled": false
   },
   "outputs": [
    {
     "ename": "TypeError",
     "evalue": "unable to convert log(4)/log(2) + 1 to an integer",
     "output_type": "error",
     "traceback": [
      "\u001b[0;31m---------------------------------------------------------------------------\u001b[0m",
      "\u001b[0;31mTypeError\u001b[0m                                 Traceback (most recent call last)",
      "\u001b[0;32m/private/var/tmp/sage-9.5-current/local/var/lib/sage/venv-python3.9.9/lib/python3.9/site-packages/sage/symbolic/expression.pyx\u001b[0m in \u001b[0;36msage.symbolic.expression.Expression._integer_ (build/cythonized/sage/symbolic/expression.cpp:36159)\u001b[0;34m()\u001b[0m\n\u001b[1;32m   1505\u001b[0m         \u001b[0;32mtry\u001b[0m\u001b[0;34m:\u001b[0m\u001b[0;34m\u001b[0m\u001b[0;34m\u001b[0m\u001b[0m\n\u001b[0;32m-> 1506\u001b[0;31m             \u001b[0mn\u001b[0m \u001b[0;34m=\u001b[0m \u001b[0mself\u001b[0m\u001b[0;34m.\u001b[0m\u001b[0mpyobject\u001b[0m\u001b[0;34m(\u001b[0m\u001b[0;34m)\u001b[0m\u001b[0;34m\u001b[0m\u001b[0;34m\u001b[0m\u001b[0m\n\u001b[0m\u001b[1;32m   1507\u001b[0m         \u001b[0;32mexcept\u001b[0m \u001b[0mTypeError\u001b[0m\u001b[0;34m:\u001b[0m\u001b[0;34m\u001b[0m\u001b[0;34m\u001b[0m\u001b[0m\n",
      "\u001b[0;32m/private/var/tmp/sage-9.5-current/local/var/lib/sage/venv-python3.9.9/lib/python3.9/site-packages/sage/symbolic/expression.pyx\u001b[0m in \u001b[0;36msage.symbolic.expression.Expression.pyobject (build/cythonized/sage/symbolic/expression.cpp:33298)\u001b[0;34m()\u001b[0m\n\u001b[1;32m    766\u001b[0m         \u001b[0;32mif\u001b[0m \u001b[0;32mnot\u001b[0m \u001b[0mis_a_numeric\u001b[0m\u001b[0;34m(\u001b[0m\u001b[0mself\u001b[0m\u001b[0;34m.\u001b[0m\u001b[0m_gobj\u001b[0m\u001b[0;34m)\u001b[0m\u001b[0;34m:\u001b[0m\u001b[0;34m\u001b[0m\u001b[0;34m\u001b[0m\u001b[0m\n\u001b[0;32m--> 767\u001b[0;31m             \u001b[0;32mraise\u001b[0m \u001b[0mTypeError\u001b[0m\u001b[0;34m(\u001b[0m\u001b[0;34m\"self must be a numeric expression\"\u001b[0m\u001b[0;34m)\u001b[0m\u001b[0;34m\u001b[0m\u001b[0;34m\u001b[0m\u001b[0m\n\u001b[0m\u001b[1;32m    768\u001b[0m         \u001b[0;32mreturn\u001b[0m \u001b[0mpy_object_from_numeric\u001b[0m\u001b[0;34m(\u001b[0m\u001b[0mself\u001b[0m\u001b[0;34m.\u001b[0m\u001b[0m_gobj\u001b[0m\u001b[0;34m)\u001b[0m\u001b[0;34m\u001b[0m\u001b[0;34m\u001b[0m\u001b[0m\n",
      "\u001b[0;31mTypeError\u001b[0m: self must be a numeric expression",
      "\nDuring handling of the above exception, another exception occurred:\n",
      "\u001b[0;31mTypeError\u001b[0m                                 Traceback (most recent call last)",
      "\u001b[0;32m/var/folders/v8/7v8gnkn145vdn26wg4kqd1380000gn/T/ipykernel_49808/3417087742.py\u001b[0m in \u001b[0;36m<module>\u001b[0;34m\u001b[0m\n\u001b[1;32m     52\u001b[0m                     \u001b[0malg_deg_of_freedom\u001b[0m\u001b[0;34m(\u001b[0m\u001b[0mcl\u001b[0m\u001b[0;34m,\u001b[0m \u001b[0mr\u001b[0m\u001b[0;34m,\u001b[0m \u001b[0mc\u001b[0m\u001b[0;34m)\u001b[0m\u001b[0;34m\u001b[0m\u001b[0;34m\u001b[0m\u001b[0m\n\u001b[1;32m     53\u001b[0m \u001b[0;34m\u001b[0m\u001b[0m\n\u001b[0;32m---> 54\u001b[0;31m \u001b[0;32mfor\u001b[0m \u001b[0mr\u001b[0m \u001b[0;32min\u001b[0m \u001b[0mrange\u001b[0m\u001b[0;34m(\u001b[0m\u001b[0mInteger\u001b[0m\u001b[0;34m(\u001b[0m\u001b[0;36m0\u001b[0m\u001b[0;34m)\u001b[0m\u001b[0;34m,\u001b[0m \u001b[0mepsilon\u001b[0m\u001b[0;34m[\u001b[0m\u001b[0mInteger\u001b[0m\u001b[0;34m(\u001b[0m\u001b[0;36m0\u001b[0m\u001b[0;34m)\u001b[0m\u001b[0;34m]\u001b[0m\u001b[0;34m+\u001b[0m\u001b[0mInteger\u001b[0m\u001b[0;34m(\u001b[0m\u001b[0;36m1\u001b[0m\u001b[0;34m)\u001b[0m\u001b[0;34m)\u001b[0m\u001b[0;34m:\u001b[0m\u001b[0;34m\u001b[0m\u001b[0;34m\u001b[0m\u001b[0m\n\u001b[0m\u001b[1;32m     55\u001b[0m     \u001b[0malg_deg_of_freedom\u001b[0m\u001b[0;34m(\u001b[0m\u001b[0mU\u001b[0m\u001b[0;34m(\u001b[0m\u001b[0mr\u001b[0m\u001b[0;34m)\u001b[0m\u001b[0;34m,\u001b[0m \u001b[0mr\u001b[0m\u001b[0;34m)\u001b[0m\u001b[0;34m\u001b[0m\u001b[0;34m\u001b[0m\u001b[0m\n",
      "\u001b[0;32m/private/var/tmp/sage-9.5-current/local/var/lib/sage/venv-python3.9.9/lib/python3.9/site-packages/sage/symbolic/expression.pyx\u001b[0m in \u001b[0;36msage.symbolic.expression.Expression.__index__ (build/cythonized/sage/symbolic/expression.cpp:63119)\u001b[0;34m()\u001b[0m\n\u001b[1;32m   6464\u001b[0m             \u001b[0;34m[\u001b[0m\u001b[0;36m0\u001b[0m\u001b[0;34m,\u001b[0m \u001b[0;36m1\u001b[0m\u001b[0;34m,\u001b[0m \u001b[0;36m2\u001b[0m\u001b[0;34m,\u001b[0m \u001b[0;36m3\u001b[0m\u001b[0;34m,\u001b[0m \u001b[0;36m4\u001b[0m\u001b[0;34m]\u001b[0m\u001b[0;34m\u001b[0m\u001b[0;34m\u001b[0m\u001b[0m\n\u001b[1;32m   6465\u001b[0m         \"\"\"\n\u001b[0;32m-> 6466\u001b[0;31m         \u001b[0;32mreturn\u001b[0m \u001b[0mint\u001b[0m\u001b[0;34m(\u001b[0m\u001b[0mself\u001b[0m\u001b[0;34m.\u001b[0m\u001b[0m_integer_\u001b[0m\u001b[0;34m(\u001b[0m\u001b[0;34m)\u001b[0m\u001b[0;34m)\u001b[0m\u001b[0;34m\u001b[0m\u001b[0;34m\u001b[0m\u001b[0m\n\u001b[0m\u001b[1;32m   6467\u001b[0m \u001b[0;34m\u001b[0m\u001b[0m\n\u001b[1;32m   6468\u001b[0m     \u001b[0;32mdef\u001b[0m \u001b[0miterator\u001b[0m\u001b[0;34m(\u001b[0m\u001b[0mself\u001b[0m\u001b[0;34m)\u001b[0m\u001b[0;34m:\u001b[0m\u001b[0;34m\u001b[0m\u001b[0;34m\u001b[0m\u001b[0m\n",
      "\u001b[0;32m/private/var/tmp/sage-9.5-current/local/var/lib/sage/venv-python3.9.9/lib/python3.9/site-packages/sage/symbolic/expression.pyx\u001b[0m in \u001b[0;36msage.symbolic.expression.Expression._integer_ (build/cythonized/sage/symbolic/expression.cpp:36208)\u001b[0;34m()\u001b[0m\n\u001b[1;32m   1506\u001b[0m             \u001b[0mn\u001b[0m \u001b[0;34m=\u001b[0m \u001b[0mself\u001b[0m\u001b[0;34m.\u001b[0m\u001b[0mpyobject\u001b[0m\u001b[0;34m(\u001b[0m\u001b[0;34m)\u001b[0m\u001b[0;34m\u001b[0m\u001b[0;34m\u001b[0m\u001b[0m\n\u001b[1;32m   1507\u001b[0m         \u001b[0;32mexcept\u001b[0m \u001b[0mTypeError\u001b[0m\u001b[0;34m:\u001b[0m\u001b[0;34m\u001b[0m\u001b[0;34m\u001b[0m\u001b[0m\n\u001b[0;32m-> 1508\u001b[0;31m             \u001b[0;32mraise\u001b[0m \u001b[0mTypeError\u001b[0m\u001b[0;34m(\u001b[0m\u001b[0;34m\"unable to convert %r to an integer\"\u001b[0m \u001b[0;34m%\u001b[0m \u001b[0mself\u001b[0m\u001b[0;34m)\u001b[0m\u001b[0;34m\u001b[0m\u001b[0;34m\u001b[0m\u001b[0m\n\u001b[0m\u001b[1;32m   1509\u001b[0m         \u001b[0;32mif\u001b[0m \u001b[0misinstance\u001b[0m\u001b[0;34m(\u001b[0m\u001b[0mn\u001b[0m\u001b[0;34m,\u001b[0m \u001b[0msage\u001b[0m\u001b[0;34m.\u001b[0m\u001b[0mrings\u001b[0m\u001b[0;34m.\u001b[0m\u001b[0minteger\u001b[0m\u001b[0;34m.\u001b[0m\u001b[0mInteger\u001b[0m\u001b[0;34m)\u001b[0m\u001b[0;34m:\u001b[0m\u001b[0;34m\u001b[0m\u001b[0;34m\u001b[0m\u001b[0m\n\u001b[1;32m   1510\u001b[0m             \u001b[0;32mreturn\u001b[0m \u001b[0mn\u001b[0m\u001b[0;34m\u001b[0m\u001b[0;34m\u001b[0m\u001b[0m\n",
      "\u001b[0;31mTypeError\u001b[0m: unable to convert log(4)/log(2) + 1 to an integer"
     ]
    }
   ],
   "source": [
    "def alg_deg_of_freedom(c, r, c0 = None):\n",
    "    # case 1: c == U_r for some r\n",
    "    if c0 == None:\n",
    "        U_r = c\n",
    "        if len(U_r) > 0:\n",
    "            l_r = L(U_r)\n",
    "            Delta_omega_r = Delta_omega(r)\n",
    "            \n",
    "            f_omega_c[tuple(set(U_r))] = Delta_omega_r\n",
    "            for f in range(r, Delta_omega_r + 1):\n",
    "                # check temp_field can be defined:\n",
    "                if min([epsilon[i] for i in U_r]) < f + l_r - r:\n",
    "                    f_omega_c[tuple(set(U_r))] = f-1\n",
    "                    break\n",
    "                \n",
    "                temp_field = M_composite(U_r, f+l_r-r)\n",
    "                if is_bicyclic(temp_field) and is_subfield(K_cyclic_subfield(0, f), temp_field):\n",
    "                    continue\n",
    "                else:\n",
    "                    f_omega_c[tuple(set(U_r))] = f-1\n",
    "                    break\n",
    "            \n",
    "            # compute the next nevel\n",
    "            if len(U_r) > 1:\n",
    "                h = l_r\n",
    "                for cl in equiv_classes(c, h+1):\n",
    "                    alg_deg_of_freedom(cl, r, c)\n",
    "            \n",
    "    # case 2: c0 is a class of U_r\n",
    "    if c0 != None:\n",
    "        if len(c) > 0:\n",
    "            L_c = L(c)\n",
    "            \n",
    "            f_omega_c[tuple(set(c))] = f_omega_c[tuple(set(c0))]\n",
    "            for f in range(0, f_omega_c[tuple(set(c0))] + 1):\n",
    "                # check temp_field can be defined:\n",
    "                if min([epsilon[i] for i in c]) < f + L_c - r:\n",
    "                    f_omega_c[tuple(set(c))] = f-1\n",
    "                    break\n",
    "                \n",
    "                temp_field = M_composite(c, f + L_c - r)\n",
    "                if is_bicyclic(temp_field) and is_subfield(K_cyclic_subfield(0, f), temp_field):\n",
    "                    continue\n",
    "                else:\n",
    "                    f_omega_c[tuple(set(c))] = f-1\n",
    "                    break\n",
    "                    \n",
    "            # compute the next level\n",
    "            if len(c) > 1:\n",
    "                h = L_c\n",
    "                for cl in equiv_classes(c, h+1):\n",
    "                    alg_deg_of_freedom(cl, r, c)\n",
    "\n",
    "for r in range(0, epsilon[0]+1):\n",
    "    alg_deg_of_freedom(U(r), r)"
   ]
  },
  {
   "cell_type": "code",
   "execution_count": null,
   "id": "86e100f2",
   "metadata": {},
   "outputs": [],
   "source": [
    "f_omega_c"
   ]
  },
  {
   "cell_type": "markdown",
   "id": "00342f4a",
   "metadata": {},
   "source": [
    "## Definition 5.6\n",
    "For a nonempty $U_r$, let $h \\geq L(U_r)$ and $c \\in U_r/\\sim_h$. We define the *degree of freedom* $f_c$ to be the maximum integer $f \\leq f^{\\omega}_c$ such that $M_c(f + L(c) - r)$ is locally cyclic."
   ]
  },
  {
   "cell_type": "code",
   "execution_count": null,
   "id": "31c9ca38",
   "metadata": {},
   "outputs": [],
   "source": [
    "dic = {1: 2, 'key2': 'sage'}"
   ]
  },
  {
   "cell_type": "code",
   "execution_count": null,
   "id": "b093d813",
   "metadata": {},
   "outputs": [],
   "source": [
    "dic[1]"
   ]
  },
  {
   "cell_type": "code",
   "execution_count": null,
   "id": "527705a1",
   "metadata": {},
   "outputs": [],
   "source": [
    "c = [1, 2]"
   ]
  },
  {
   "cell_type": "code",
   "execution_count": null,
   "id": "843d8326",
   "metadata": {},
   "outputs": [],
   "source": [
    "type(c)"
   ]
  },
  {
   "cell_type": "code",
   "execution_count": null,
   "id": "d302599c",
   "metadata": {},
   "outputs": [],
   "source": [
    "c[0] = 3\n",
    "c"
   ]
  },
  {
   "cell_type": "code",
   "execution_count": null,
   "id": "91494a4e",
   "metadata": {},
   "outputs": [],
   "source": [
    "tup = (1, 2)\n",
    "type(tup)\n",
    "tup[0]"
   ]
  },
  {
   "cell_type": "code",
   "execution_count": null,
   "id": "ec4a70b9",
   "metadata": {},
   "outputs": [],
   "source": [
    "tup[0] = 3"
   ]
  },
  {
   "cell_type": "code",
   "execution_count": null,
   "id": "b73df51a",
   "metadata": {},
   "outputs": [],
   "source": [
    "# f_c = {(1, 2): 3, (0,): 4}"
   ]
  },
  {
   "cell_type": "code",
   "execution_count": null,
   "id": "6dc602fd",
   "metadata": {},
   "outputs": [],
   "source": [
    "f_c = {}"
   ]
  },
  {
   "cell_type": "code",
   "execution_count": null,
   "id": "39d6a710",
   "metadata": {},
   "outputs": [],
   "source": [
    "def deg_of_freedom(c, r):\n",
    "    c = tuple(set(c))\n",
    "    if c in f_c:\n",
    "        return f_c[c]\n",
    "    else:\n",
    "        for f in range(f_omega_c[c] + 1):\n",
    "            temp_field = M_composite(c, f + L(c) - r)\n",
    "            if is_locally_cyclic(temp_field):\n",
    "                continue\n",
    "            else:\n",
    "                f_c[c] = f - 1\n",
    "                return f_c[c]"
   ]
  },
  {
   "cell_type": "markdown",
   "id": "bcafe2fc",
   "metadata": {},
   "source": [
    "## Theorem 6.5\n",
    "We have\n",
    "\\begin{align*}\n",
    "Ш^2_{\\omega}(k, \\hat{T}_{L/K}) \\simeq \\bigoplus\\limits_{r \\in \\mathcal{R} \\setminus \\{0\\}} \\mathbb{Z}/p^{\\Delta_r^{\\omega} - r} \\mathbb{Z} \\bigoplus\\limits_{r \\in \\mathcal{R}}\n",
    "\\bigoplus\\limits_{l \\geq L(U_r)} \\bigoplus\\limits_{c \\in U_r/\\sim_l} (\\mathbb{Z}/p^{f^{\\omega}_c - r} \\mathbb{Z})^{n_{l+1}(c) -1}\n",
    "\\end{align*}\n",
    "and\n",
    "\\begin{align*}\n",
    "Ш^1(k, T_{L/K}) \\simeq \\bigoplus\\limits_{r \\in \\mathcal{R} \\setminus \\{0\\}} \\mathbb{Z}/p^{\\Delta_r - r} \\mathbb{Z} \\bigoplus\\limits_{r \\in \\mathcal{R}} \\bigoplus\\limits_{l \\geq L(U_r)} \\bigoplus\\limits_{c \\in U_r/\\sim_l} (\\mathbb{Z}/p^{f_c - r} \\mathbb{Z})^{n_{l+1}(c) -1}\n",
    "\\end{align*}"
   ]
  },
  {
   "cell_type": "code",
   "execution_count": null,
   "id": "a2d2fb80",
   "metadata": {},
   "outputs": [],
   "source": [
    "[1]*5"
   ]
  },
  {
   "cell_type": "code",
   "execution_count": null,
   "id": "6b3ba567",
   "metadata": {},
   "outputs": [],
   "source": [
    "def sha2omega():\n",
    "    first_part = []\n",
    "    for r in R:\n",
    "        if r == 0:\n",
    "            continue\n",
    "        if Delta_omega(r)-r >= 0:\n",
    "            first_part.append(p^(Delta_omega(r)-r))\n",
    "\n",
    "    second_part = []\n",
    "    for r in R:\n",
    "        U_r = U(r)\n",
    "        l = L(U_r)\n",
    "        keep_running = True\n",
    "        while(keep_running):\n",
    "            for c in equiv_classes(U_r, l):\n",
    "                if f_omega_c[tuple(set(c))]-r >= 0:\n",
    "                    second_part += [p^(f_omega_c[tuple(set(c))]-r)]*(n(l+1, c)-1)\n",
    "                    \n",
    "            if n(l, U_r) == len(U_r): # there is no need to use finer partition\n",
    "                keep_running = False\n",
    "            l += 1\n",
    "    return AbelianGroup(first_part + second_part)"
   ]
  },
  {
   "cell_type": "code",
   "execution_count": null,
   "id": "590c643a",
   "metadata": {
    "scrolled": false
   },
   "outputs": [],
   "source": [
    "sha2omega()"
   ]
  },
  {
   "cell_type": "code",
   "execution_count": null,
   "id": "7674bad7",
   "metadata": {},
   "outputs": [],
   "source": [
    "first_part = []\n",
    "for r in R:\n",
    "    if r == 0:\n",
    "        continue\n",
    "    if Delta_(r)-r >= 0:\n",
    "        first_part.append(p^(Delta(r)-r))"
   ]
  },
  {
   "cell_type": "code",
   "execution_count": null,
   "id": "a4e4a891",
   "metadata": {},
   "outputs": [],
   "source": [
    "first_part"
   ]
  },
  {
   "cell_type": "code",
   "execution_count": null,
   "id": "e9a4c261",
   "metadata": {},
   "outputs": [],
   "source": [
    "second_part = []\n",
    "\n",
    "for r in R:\n",
    "    U_r = U(r)\n",
    "    l = L(U_r)\n",
    "    keep_running = True\n",
    "    while(keep_running):\n",
    "        for c in equiv_classes(U_r, l):\n",
    "            f_c = deg_of_freedom(c, r)\n",
    "            if f_c-r >= 0:\n",
    "                second_part += [p^(f_c-r)]*(n(l+1, c)-1)\n",
    "        if n(l, U_r) == len(U_r): # there is no need to use finer partition\n",
    "            keep_running = False\n",
    "        l += 1"
   ]
  }
 ],
 "metadata": {
  "kernelspec": {
   "display_name": "SageMath 9.5",
   "language": "sage",
   "name": "sagemath-9.5"
  },
  "language_info": {
   "codemirror_mode": {
    "name": "ipython",
    "version": 3
   },
   "file_extension": ".py",
   "mimetype": "text/x-python",
   "name": "python",
   "nbconvert_exporter": "python",
   "pygments_lexer": "ipython3",
   "version": "3.9.9"
  }
 },
 "nbformat": 4,
 "nbformat_minor": 5
}
