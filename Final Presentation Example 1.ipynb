{
 "cells": [
  {
   "cell_type": "markdown",
   "id": "b0c9fe44",
   "metadata": {},
   "source": [
    "$L = K_0 \\times \\dotsb K_m$, where each $K_i/k$ is a cyclic extension of number field with degree $p^{\\epsilon_i}$. These fields satisfies that\n",
    "* $K_i \\not\\subset K_j$ for all $i, j$.\n",
    "* $\\cap_{i \\in \\mathcal{I}'} K_i = k$.\n",
    "* $e_i \\geq e_{i+1}$."
   ]
  },
  {
   "cell_type": "markdown",
   "id": "e917ebe3",
   "metadata": {},
   "source": [
    "# Special case\n",
    "Let $k = \\mathbb(Q)(\\zeta_{p^n})$. Let $l_1, l_2$ be distinct prime numbers which are not equal to $p$. Each $K_i$ is given by a pair of numbers $(a_i, b_i)$ such that $0 \\leq a_i < p^n$, $0 \\leq b_i < p^n$, and $(a_i, b_i) \\neq (0, 0)$, which gives\n",
    "\\begin{align*}\n",
    "K_i = k\\left((l_1^{a_i} l_2^{b_i})^{1/p^n}\\right)\n",
    "\\end{align*}"
   ]
  },
  {
   "cell_type": "markdown",
   "id": "36012e55",
   "metadata": {},
   "source": [
    "Input: the cyclic extensions $K_1, \\dotsc K_m$ and $k$.\n",
    "\n",
    "Ouput: the groups $Ш^1(k, T_{L/k})$ and $Ш^2_{\\omega}(k, \\hat{T}_{L/k})$."
   ]
  },
  {
   "cell_type": "markdown",
   "id": "1e224ff8",
   "metadata": {},
   "source": [
    "# Inputs"
   ]
  },
  {
   "cell_type": "code",
   "execution_count": 1,
   "id": "4a0456ae",
   "metadata": {},
   "outputs": [],
   "source": [
    "m = 4\n",
    "p = 3\n",
    "n = 3\n",
    "l1 = 5\n",
    "l2 = 19\n",
    "a = [1, 1, 2, 3, 5]\n",
    "b = [0, 1, 3, 5, 11]\n",
    "# k = CyclotomicField(p^n)\n",
    "# K = [k.extension(x^(p^n) - l1^a[i] * l2^b[i], 'a' + str(i)) for i in range(0, m+1)]"
   ]
  },
  {
   "cell_type": "code",
   "execution_count": 2,
   "id": "491b0ade",
   "metadata": {},
   "outputs": [],
   "source": [
    "v_p = QQ.valuation(p)"
   ]
  },
  {
   "cell_type": "code",
   "execution_count": 3,
   "id": "c6840a86",
   "metadata": {},
   "outputs": [],
   "source": [
    "# compute m12 and m21\n",
    "s1 = v_p(l1-1)\n",
    "s2 = v_p(Mod(l2, l1).multiplicative_order())\n",
    "s1prime = v_p(l2-1)\n",
    "s2prime = v_p(Mod(l1, l2).multiplicative_order())\n",
    "m12 = max(min(n, s1)-(s1-s2), 0)\n",
    "m21 = max(min(n, s1prime)-(s1prime-s2prime), 0)"
   ]
  },
  {
   "cell_type": "code",
   "execution_count": 4,
   "id": "fa071916",
   "metadata": {},
   "outputs": [],
   "source": [
    "I = [i for i in range(1, m+1)]       # a list, {1, 2, ..., m}\n",
    "I_prime = [i for i in range(0, m+1)] # a list, {0, 1, 2, ..., m}"
   ]
  },
  {
   "cell_type": "markdown",
   "id": "a029b0a1",
   "metadata": {},
   "source": [
    "Find $\\epsilon_i$, where $p^{\\epsilon_i} = [K_i:k]$."
   ]
  },
  {
   "cell_type": "code",
   "execution_count": 5,
   "id": "8cd54682",
   "metadata": {},
   "outputs": [
    {
     "data": {
      "text/plain": [
       "[3, 3, 3, 3, 3]"
      ]
     },
     "execution_count": 5,
     "metadata": {},
     "output_type": "execute_result"
    }
   ],
   "source": [
    "epsilon = [0]*(m+1)\n",
    "for i in I_prime:\n",
    "    epsilon[i] = n-min(v_p(a[i]), v_p(b[i]))\n",
    "epsilon"
   ]
  },
  {
   "cell_type": "code",
   "execution_count": 6,
   "id": "72ef7eda",
   "metadata": {},
   "outputs": [],
   "source": [
    "def is_subfield(F1, F2):\n",
    "    \"\"\"\n",
    "    Check that if F1 is a subfield of F2, assuming that F1 is Galois.\n",
    "    \n",
    "    Parameters\n",
    "    ----------\n",
    "    F1 : sage.rings.number_field.number_field\n",
    "        A number field whose base field can be Q or another number field.\n",
    "    F2 : sage.rings.number_field.number_field\n",
    "        A number field whose base field can be Q or another number field.\n",
    "        \n",
    "    Returns\n",
    "    ---------\n",
    "    result : boolean\n",
    "        True iff. F1 is contained in F2.\n",
    "    \"\"\"\n",
    "    F1.<f1> = F1.absolute_field()\n",
    "    F2.<f2> = F2.absolute_field()\n",
    "    R.<x> = PolynomialRing(F2) # R = F2[x]\n",
    "    f = R(F1.polynomial())     # Let f be the minimal polynomial of F1/Q, and regard f as in R = F2[x].\n",
    "    l = list(f.factor())       # factorize f in R\n",
    "    \n",
    "    result = True\n",
    "    for factor in l:\n",
    "        # check if each factor of f is of degree 1,\n",
    "        # if not, then F1 is not a subfield of F2\n",
    "        if factor[0].degree() != 1:\n",
    "            result = False\n",
    "            break\n",
    "    return result"
   ]
  },
  {
   "cell_type": "markdown",
   "id": "90430b78",
   "metadata": {},
   "source": [
    "Find $e_i$ and $e_{i, j}$, where $p^{e_i} = [K_0 K_i : K_i]$ and $p^{e_{i, j}} = [K_i \\cap K_j: k]$."
   ]
  },
  {
   "cell_type": "code",
   "execution_count": 7,
   "id": "bfd7fb7e",
   "metadata": {},
   "outputs": [],
   "source": [
    "e_ij = [\n",
    "    [v_p(gcd([a[i] - a[j], b[i] - b[j], p^n])) for j in range(0, m+1)] \n",
    "    for i in range(0, m+1)\n",
    "]"
   ]
  },
  {
   "cell_type": "code",
   "execution_count": 8,
   "id": "4a106895",
   "metadata": {},
   "outputs": [
    {
     "data": {
      "text/plain": [
       "[[3, 0, 0, 0, 0],\n",
       " [0, 3, 0, 0, 0],\n",
       " [0, 0, 3, 0, 0],\n",
       " [0, 0, 0, 3, 0],\n",
       " [0, 0, 0, 0, 3]]"
      ]
     },
     "execution_count": 8,
     "metadata": {},
     "output_type": "execute_result"
    }
   ],
   "source": [
    "e_ij"
   ]
  },
  {
   "cell_type": "code",
   "execution_count": 9,
   "id": "ff06ac4f",
   "metadata": {},
   "outputs": [],
   "source": [
    "e_i = [epsilon[0] - e_ij[0][i] for i in range(0, m+1)]"
   ]
  },
  {
   "cell_type": "code",
   "execution_count": 10,
   "id": "01061f7b",
   "metadata": {},
   "outputs": [
    {
     "data": {
      "text/plain": [
       "[0, 3, 3, 3, 3]"
      ]
     },
     "execution_count": 10,
     "metadata": {},
     "output_type": "execute_result"
    }
   ],
   "source": [
    "e_i"
   ]
  },
  {
   "cell_type": "markdown",
   "id": "c7276da5",
   "metadata": {},
   "source": [
    "$R = \\{i \\in \\mathcal{I}'\\mid U_i \\neq \\varnothing\\}$, where $U_r = \\{i \\in \\mathcal{I} \\mid e_{0, i} = r\\}$."
   ]
  },
  {
   "cell_type": "code",
   "execution_count": 11,
   "id": "714693da",
   "metadata": {},
   "outputs": [],
   "source": [
    "def U(r):\n",
    "    \"\"\"\n",
    "    Return the set U_r.\n",
    "    \n",
    "    Parameters\n",
    "    ----------\n",
    "    r : int\n",
    "        The number in U_r.\n",
    "    \n",
    "    Returns\n",
    "    ----------\n",
    "    result : list\n",
    "        A list consisting of indicies i such that e_{0, i} = r.\n",
    "    \"\"\"\n",
    "    \n",
    "    result = []\n",
    "    for i in I:\n",
    "        if e_ij[0][i] == r:\n",
    "            result.append(i)\n",
    "    return result\n",
    "\n",
    "R = []\n",
    "for i in range(epsilon[0]+1):\n",
    "    if len(U(i)) > 0:\n",
    "        R.append(i)"
   ]
  },
  {
   "cell_type": "code",
   "execution_count": 12,
   "id": "f42a2163",
   "metadata": {},
   "outputs": [
    {
     "data": {
      "text/plain": [
       "[0]"
      ]
     },
     "execution_count": 12,
     "metadata": {},
     "output_type": "execute_result"
    }
   ],
   "source": [
    "R"
   ]
  },
  {
   "cell_type": "code",
   "execution_count": 13,
   "id": "a4a05dd2",
   "metadata": {
    "scrolled": true
   },
   "outputs": [
    {
     "data": {
      "text/plain": [
       "[1, 2, 3, 4]"
      ]
     },
     "execution_count": 13,
     "metadata": {},
     "output_type": "execute_result"
    }
   ],
   "source": [
    "U(0)"
   ]
  },
  {
   "cell_type": "markdown",
   "id": "e39b4e95",
   "metadata": {},
   "source": [
    "$L(U_r) = \\min\\{\\log_p[K_i \\cap K_j: k] \\mid \\forall i, j \\in U_r\\}$"
   ]
  },
  {
   "cell_type": "code",
   "execution_count": 14,
   "id": "19809e5b",
   "metadata": {},
   "outputs": [],
   "source": [
    "def L(U):\n",
    "    \"\"\"\n",
    "    For a subset U of I', return L(U).\n",
    "    \n",
    "    Parameters\n",
    "    ----------\n",
    "    U : list or tuple\n",
    "        A subset of I' = {0, 1, ..., m}\n",
    "    \n",
    "    Returns\n",
    "    ---------\n",
    "    int\n",
    "        The minimal integer of e_ij for i, j in U, \n",
    "        where p^{e_ij} is the degree of the intersection of K_i and K_j over k.\n",
    "    \"\"\"\n",
    "\n",
    "    r = []\n",
    "    for i in U:\n",
    "        for j in U:\n",
    "            r.append(e_ij[i][j])\n",
    "    if len(r) > 0:\n",
    "        return min(r)\n",
    "    else:\n",
    "        return 'The set is empty!'"
   ]
  },
  {
   "cell_type": "code",
   "execution_count": 15,
   "id": "30667251",
   "metadata": {},
   "outputs": [
    {
     "data": {
      "text/plain": [
       "0"
      ]
     },
     "execution_count": 15,
     "metadata": {},
     "output_type": "execute_result"
    }
   ],
   "source": [
    "L(U(0))"
   ]
  },
  {
   "cell_type": "markdown",
   "id": "167d3ba6",
   "metadata": {},
   "source": [
    "On a subset $C \\subset \\mathcal{I}'$, we can define an equivalence relation $\\sim_{\\ell}$ by\n",
    "$$i \\sim_{\\ell} j \\Leftrightarrow e_{ij} \\geq l.$$\n",
    "The number $n_{\\ell}(C)$ is the number of equivalence classes with respect to $C/\\sim_{\\ell}$."
   ]
  },
  {
   "cell_type": "code",
   "execution_count": 15,
   "id": "541fcef2",
   "metadata": {},
   "outputs": [],
   "source": [
    "def equiv(i, j, l):\n",
    "    \"\"\"\n",
    "    Return whether i and j are l-equivalent.\n",
    "    \n",
    "    Parameters\n",
    "    ----------\n",
    "    i, j : int\n",
    "        Two indicies in I'.\n",
    "    l : int\n",
    "        The equivalence relation we consider.\n",
    "        \n",
    "    Returns\n",
    "    ---------\n",
    "    bool\n",
    "        True iff i and j are l-equivalent.\n",
    "    \"\"\"\n",
    "    return e_ij[i][j] >= l or i == j"
   ]
  },
  {
   "cell_type": "code",
   "execution_count": 16,
   "id": "0b11370b",
   "metadata": {},
   "outputs": [],
   "source": [
    "def equiv_classes(C, l):\n",
    "    \"\"\"\n",
    "    Return a list of equivalence classes with respect to C/l.\n",
    "    \n",
    "    Parameters\n",
    "    ----------\n",
    "    C : list or tuple\n",
    "        A subset of I_prime whose l-equivalence class we consider.\n",
    "    l : int\n",
    "        The equivalence relation we consider.\n",
    "        \n",
    "    Returns\n",
    "    ---------\n",
    "    components : a list of lists of vertices.\n",
    "        Each components[i] consists of vertices which are l-equivalent.\n",
    "    \"\"\"\n",
    "    \n",
    "    # Construct a graph whose the vertices are elements in C, \n",
    "    # and two vertices i and j are connected with an edge iff i~j.\n",
    "    d = {}\n",
    "    for i in C:\n",
    "        # For a vertice i,\n",
    "        # collect those vertices j which are l-equivalent to i.\n",
    "        connected_vertices = []\n",
    "        for j in C:\n",
    "            if i != j and equiv(i, j, l):\n",
    "                connected_vertices.append(j)\n",
    "        d[i] = connected_vertices\n",
    "    G = Graph(d)\n",
    "    # Use the built-in function G.connected_components() in Sage.\n",
    "    return G.connected_components()"
   ]
  },
  {
   "cell_type": "code",
   "execution_count": 17,
   "id": "4ca34100",
   "metadata": {},
   "outputs": [],
   "source": [
    "def number_of_equiv_class(l, C):\n",
    "    \"\"\"\n",
    "    Return the number of equivalence classes of C/~l.\n",
    "    \n",
    "    Parameters\n",
    "    ----------\n",
    "    l : int\n",
    "        The equivalence relation we consider.\n",
    "    C : list or tuple\n",
    "        A subset of I_prime whose l-equivalence class we consider.\n",
    "        \n",
    "    Returns\n",
    "    ---------\n",
    "    n : int\n",
    "        Number of equivalence classes of C/~l.\n",
    "    \"\"\"\n",
    "    \n",
    "    # Construct a graph whose the vertices are elements in C, \n",
    "    # and two vertices i and j are connected with an edge iff i~j.\n",
    "    d = {}\n",
    "    for i in C:\n",
    "        connected_vertices = []\n",
    "        for j in C:\n",
    "            if i != j and equiv(i, j, l):\n",
    "                connected_vertices.append(j)\n",
    "        d[i] = connected_vertices\n",
    "    G = Graph(d)\n",
    "    # Use the built-in function G.connected_components_number() in Sage.\n",
    "    return G.connected_components_number()"
   ]
  },
  {
   "cell_type": "markdown",
   "id": "e5280692",
   "metadata": {},
   "source": [
    "For a cyclic extension $K_i$ of degree $p^{\\epsilon_i}$, we denote by $K_i(f)$ the unique subfield of $K_i$ of degree $p^f$ (p4)."
   ]
  },
  {
   "cell_type": "code",
   "execution_count": 18,
   "id": "c02a7852",
   "metadata": {},
   "outputs": [],
   "source": [
    "def K_cyclic_subfield(i, d):\n",
    "    \"\"\"\n",
    "    Return the cyclic subfield K_i(d).\n",
    "    \n",
    "    Parameters\n",
    "    ----------\n",
    "    i : int\n",
    "        The index of the field K_i which we are interested in.\n",
    "    d : int\n",
    "        The power of degree p^d.\n",
    "    \n",
    "    Returns\n",
    "    ---------\n",
    "    K_i_d : a relative number field\n",
    "        The unique subfield of K_i/k of degree p^d. It is a relative number field in Sage whose base field is k.\n",
    "    \"\"\"\n",
    "    return k.extension(x^(p^d) - l1^a[i] * l2^b[i], 'a' + str(i) + '_' + str(d))"
   ]
  },
  {
   "cell_type": "markdown",
   "id": "09cb78c9",
   "metadata": {},
   "source": [
    "For a nonempty subset $C \\subseteq \\mathcal{I}$ and an integer $d \\geq 0$, we define the field $M_C(d)$ to be the composite field $\\langle K_i(d) \\rangle_{i \\in C}$."
   ]
  },
  {
   "cell_type": "code",
   "execution_count": 19,
   "id": "53efead1",
   "metadata": {},
   "outputs": [],
   "source": [
    "def M_composite(C, d):\n",
    "    \"\"\"\n",
    "    Return the composite field M_C(d).\n",
    "    \n",
    "    Parameters\n",
    "    ----------\n",
    "    C : list or tuple\n",
    "        A subset of I.\n",
    "    d : int\n",
    "        A nonnegative integer. We concern about p^d.\n",
    "    \n",
    "    Returns\n",
    "    ---------\n",
    "    result : sage.rings.number_field.number_field.NumberField_absolute_with_category\n",
    "        The composite of the fields K[i](d).\n",
    "    \"\"\"\n",
    "    \n",
    "    result = k\n",
    "    for i in C:\n",
    "        # composite one field at a time\n",
    "        result = result.composite_fields(K_cyclic_subfield(i, d))[0]\n",
    "    result = k.composite_fields(result)[0]\n",
    "    return result"
   ]
  },
  {
   "cell_type": "markdown",
   "id": "a33fc0a8",
   "metadata": {},
   "source": [
    "## Definition 4.1.\n",
    "The *algebraic patching degree* $\\Delta^{\\omega}_r$ of $U_r$ is the maximum nonnegative integer $d$ satisfying the following:\n",
    "1. If $U_{>r}$ is nonempty, then $M_{U_{>r}}(d) \\subset \\cap_{i \\in U_r} K_0(d) K_i(d)$.\n",
    "2. If $U_{<r}$ is nonempty, then $M_{U_r}(d) \\subset \\cap_{i \\in U_{<r}} K_0(d) K_i(d)$.\n",
    "\n",
    "If $U_r = \\mathcal{I}$, then we set $\\Delta^{\\omega}_r = \\epsilon_0$.\n",
    "\n",
    "Here $U_{> r} = \\{i \\in \\mathcal{I} \\mid e_{0, i} > r\\}$ and $U_{< r} = \\{i \\in \\mathcal{I} \\mid e_{0, i} < r\\}$. (p.13)"
   ]
  },
  {
   "cell_type": "code",
   "execution_count": 20,
   "id": "5f570aa5",
   "metadata": {},
   "outputs": [],
   "source": [
    "def U_greater(r):\n",
    "    \"\"\"\n",
    "    Return the set U_{>r}.\n",
    "    \n",
    "    AParameters\n",
    "    ----------\n",
    "    r : int\n",
    "    \n",
    "    Returns\n",
    "    ---------\n",
    "    U_{>r} : list\n",
    "        A subset of I consisting of indicies i such that e_0i > r.\n",
    "    \"\"\"\n",
    "    result = []\n",
    "    for i in I:\n",
    "        if e_ij[0][i] > r:\n",
    "            result.append(i)\n",
    "    return result\n",
    "\n",
    "def U_smaller(r):\n",
    "    \"\"\"\n",
    "    Return the set U_{<r}.\n",
    "    \n",
    "    Parameters\n",
    "    ----------\n",
    "    r : int\n",
    "    \n",
    "    Returns\n",
    "    ---------\n",
    "    U_{<r} : list\n",
    "        A subset of I consisting of indicies i such that e_0i > r.\n",
    "    \"\"\"\n",
    "    result = []\n",
    "    for i in I:\n",
    "        if e_ij[0][i] < r:\n",
    "            result.append(i)\n",
    "    return result"
   ]
  },
  {
   "cell_type": "code",
   "execution_count": 21,
   "id": "7a2a2220",
   "metadata": {},
   "outputs": [],
   "source": [
    "def Delta_omega(r):\n",
    "    \"\"\"\n",
    "    Return the algebraic patching degree of U_r. (Definition 4.1)\n",
    "    \n",
    "    Parameters\n",
    "    ----------\n",
    "    r : int\n",
    "    \n",
    "    Returns\n",
    "    ---------\n",
    "    d : int\n",
    "        The algebriac patching degree of U_r.\n",
    "    \"\"\"\n",
    "    \n",
    "    U_r = U(r)\n",
    "    \n",
    "    # trivial case\n",
    "    if U_r == I:\n",
    "        return epsilon[0]\n",
    "    \n",
    "    # non-trivial case\n",
    "    U_greater_r = U_greater(r)\n",
    "    U_smaller_r = U_smaller(r)\n",
    "    \n",
    "    # whether we should check two conditions\n",
    "    flag_1 = bool(len(U_greater(r)) > 0) # U_{>r} is nonempty\n",
    "    flag_2 = bool(len(U_smaller(r)) > 0) # U_{<r} is nonempty\n",
    "    \n",
    "    for d in range(r, epsilon[0]+1):\n",
    "        d_satisfy = True # check if the current d satisfies two conditions\n",
    "        \n",
    "        if flag_1: # 1. If U_{>r} is nonempty,\n",
    "            G = AbelianGroup([p^n, p^n])\n",
    "            H1 = []\n",
    "            for j in U_greater_r:\n",
    "                H1.append(G((a[j]*p^(epsilon[j]-d), b[j]*p^(epsilon[j]-d))))\n",
    "            H1 = G.subgroup(H1)\n",
    "            \n",
    "            for i in U_r:\n",
    "                H2 = G.subgroup([\n",
    "                    G((a[0]*p^(epsilon[0]-d), b[0]*p^(epsilon[0]-d))), \n",
    "                    G((a[i]*p^(epsilon[i]-d), b[i]*p^(epsilon[i]-d)))\n",
    "                ])\n",
    "                if not H1.is_subgroup(H2):\n",
    "                    d_satisfy = False\n",
    "                    break\n",
    "                \n",
    "#                 temp_field = K_cyclic_subfield(0, d).composite_fields(K_cyclic_subfield(i, d))[0]\n",
    "#                 # check if M_{U_{>r}}(d) is contained in K_0(d)K_i(d).\n",
    "#                 if not is_subfield(M_composite(U_greater_r, d), temp_field):\n",
    "#                     d_satisfy = False\n",
    "#                     break\n",
    "        if flag_2: # 2. If U_{<r} is nonempty,\n",
    "            G = AbelianGroup([p^n, p^n])\n",
    "            H1 = []\n",
    "            for j in U_r:\n",
    "                H1.append(G((a[j]*p^(epsilon[j]-d), b[j]*p^(epsilon[j]-d))))\n",
    "            H1 = G.subgroup(H1)\n",
    "            \n",
    "            for i in U_smaller_r:\n",
    "                H2 = G.subgroup([\n",
    "                    G((a[0]*p^(epsilon[0]-d), b[0]*p^(epsilon[0]-d))), \n",
    "                    G((a[i]*p^(epsilon[i]-d), b[i]*p^(epsilon[i]-d)))\n",
    "                ])\n",
    "                if not H1.is_subgroup(H2):\n",
    "                    d_satisfy = False\n",
    "                    break\n",
    "                \n",
    "#                 temp_field = K_cyclic_subfield(0, d).composite_fields(K_cyclic_subfield(i, d))[0]\n",
    "#                 # check if M_{U_r}(d) is contained in K_0(d)K_i(d).\n",
    "#                 if not is_subfield(M_composite(U_r, d), temp_field):\n",
    "#                     d_satisfy = False\n",
    "#                     break\n",
    "        if not d_satisfy:\n",
    "            return d-1\n",
    "    return epsilon[0]"
   ]
  },
  {
   "cell_type": "code",
   "execution_count": 22,
   "id": "a7a0205a",
   "metadata": {},
   "outputs": [
    {
     "data": {
      "text/plain": [
       "3"
      ]
     },
     "execution_count": 22,
     "metadata": {},
     "output_type": "execute_result"
    }
   ],
   "source": [
    "Delta_omega(0)"
   ]
  },
  {
   "cell_type": "markdown",
   "id": "b531e253",
   "metadata": {},
   "source": [
    "convert absolute field to relative number field"
   ]
  },
  {
   "cell_type": "code",
   "execution_count": 23,
   "id": "8b48413d",
   "metadata": {
    "scrolled": true
   },
   "outputs": [],
   "source": [
    "def abs_to_rel(F):\n",
    "    \"\"\"\n",
    "    Given an absolute number field F, return the same relative number field whose base field is k. \n",
    "    \n",
    "    Parameters\n",
    "    ----------\n",
    "    F : sage.rings.number_field.number_field.NumberField_absolute_with_category\n",
    "        An absolute number field which we assumed to be Galois and contains k.\n",
    "        \n",
    "    Returns\n",
    "    ---------\n",
    "    F_rel : sage.rings.number_field.number_field_rel.NumberField_relative_with_category\n",
    "        A relative number field in Sage whose base field is k.\n",
    "    \"\"\"\n",
    "    \n",
    "    if not is_subfield(k, F):\n",
    "        raise ValueError(f\"F is not an extension of k. In this case, F is {F}.\")\n",
    "    \n",
    "    R.<x> = PolynomialRing(k)        # R = k[x]\n",
    "    p = R(F.absolute_polynomial())            # the minimal polynomial of F, viewed as an element in R = k[x]\n",
    "    l = list(p.factor())             # factorize p in k[x]\n",
    "    F_rel.<v> = k.extension(l[0][0]) \n",
    "    return F_rel"
   ]
  },
  {
   "cell_type": "markdown",
   "id": "4a42525c",
   "metadata": {},
   "source": [
    "A finite Galois extension $F$ of $k$ is said to be *locally cyclic* at $v$ if $F \\otimes_k k_v$ is a product of cyclic extensions of $k_v$. $F$ is said to be *locally cyclic* if it is locally cyclic at all $v \\in \\Omega_k$. (p2)"
   ]
  },
  {
   "cell_type": "markdown",
   "id": "22d0d630",
   "metadata": {},
   "source": [
    "We divide this problems into two parts. Note that if a place $v$ of $k$ is unramified, then $F$ is locally cyclic at $v$. Thus it remains to check on ramified places. \n",
    "1. How to find ramified places?\n",
    "    \n",
    "    Let $\\mathfrak{p}$ prime ideal of $k$. $\\mathfrak{p}$ is ramified in $F$ iff $\\mathfrak{p}$ divides the relative discriminant $\\Delta_{F/k}$.\n",
    "    \n",
    "    \n",
    "2. How to check if $F$ is locally cyclic at a ramified place $v$?\n",
    "\n",
    "    Since $F/k$ is Galois, for any $w \\mid v$ and $w' \\mid v$ the completions $F_{w} \\simeq F_{w'}$ are isomorphic. Thus to check that $F/k$ is locally cyclic at $v$, it suffices to check whether $F_w/k_v$ is cyclic where $w$ is a place of $F$ lying over $v$."
   ]
  },
  {
   "cell_type": "code",
   "execution_count": 24,
   "id": "10440481",
   "metadata": {
    "scrolled": true
   },
   "outputs": [],
   "source": [
    "def is_locally_cyclic(F):\n",
    "    \"\"\"\n",
    "    Check if a finite Galois extension F/k is locally cyclic.\n",
    "    \n",
    "    Parameters\n",
    "    ----------\n",
    "    F : sage.rings.number_field.number_field.NumberField_absolute_with_category\n",
    "        An absolute number field which we assumed to be Galois and contains k.\n",
    "        \n",
    "    Returns\n",
    "    ---------\n",
    "    result : bool\n",
    "        True iff. F/k is locally cyclic.\n",
    "    \"\"\"\n",
    "    \n",
    "    if not is_subfield(k, F):\n",
    "        raise ValueError(f\"F is not an extension of k. In this case, F is {F}.\")\n",
    "    \n",
    "    # check if F == k\n",
    "    if is_subfield(F, k):\n",
    "        return True\n",
    "    \n",
    "    # Part 1: find ramified places.\n",
    "    \n",
    "    F = abs_to_rel(F)\n",
    "    \n",
    "    # the absolute number field of F\n",
    "    F_abs.<w> = F.absolute_field()\n",
    "    # replace F with a relative number field with base field k\n",
    "    F = abs_to_rel(F_abs)\n",
    "    # Take a generator of k/Q, viewed in F_abs\n",
    "    k_gen = (k.polynomial()).roots(ring = F_abs, multiplicities = False)[0]\n",
    "    # Galois group F/Q\n",
    "    G_abs = F_abs.galois_group()\n",
    "    # relative discriminant of F/k, an ideal of k\n",
    "    rel_disc = k.ideal(F.relative_discriminant())\n",
    "    \n",
    "    # factorize the relative discriminant in F\n",
    "    # temp_list[0] = (P, n), where P: prime ideal, n: power\n",
    "    temp_list = list(F.ideal(rel_disc).factor()) \n",
    "    # we only need the P part\n",
    "    ramified_primes_above = [item[0] for item in temp_list]\n",
    "    \n",
    "    #------------------------------------------------------\n",
    "    # Part 2: check for each ramified place.\n",
    "    result = True\n",
    "    for P in ramified_primes_above:\n",
    "        try:\n",
    "            # P is an ideal in relative number field F.\n",
    "            # Convert P to an ideal in absolute number field F_abs.\n",
    "            P_abs = P.absolute_ideal(w)\n",
    "        except:\n",
    "            print(F)\n",
    "            print(F.base_field())\n",
    "        \n",
    "        # the decomposition group of P in F/Q\n",
    "        abs_decomp = G_abs.decomposition_group(P_abs)\n",
    "        # compute the decomposition group of P in F/k\n",
    "        rel_decomp = []\n",
    "        for g in abs_decomp:\n",
    "            # check if an element g in rel_decomp fixes k\n",
    "            if g(k_gen) == k_gen:\n",
    "                rel_decomp.append(g)\n",
    "        # convert rel_decomp into a subgroup\n",
    "        rel_decomp = abs_decomp.subgroup(rel_decomp)\n",
    "        # check if the (relative) decomposition group is cyclic\n",
    "        if not rel_decomp.is_cyclic():\n",
    "            result = False\n",
    "            break\n",
    "    return result"
   ]
  },
  {
   "cell_type": "markdown",
   "id": "edc0fa00",
   "metadata": {},
   "source": [
    "$M_c(d)$ is locally cyclic \\\n",
    "$\\Leftrightarrow p^{n-d} c_1(c) \\in p^{m_{21}} \\mathbb{Z}$ and $p^{n-d} d_2(c) \\in p^{m_{12}} \\mathbb{Z}$.\n",
    "\n",
    "Here\n",
    "\\begin{align*}\n",
    "m_{12} = \\max\\{\\min\\{n, s_1\\} - (s_1 - s_2), 0\\} \\\\\n",
    "s_1 = v_p(l_1 - 1), s_2 = v_p(\\mathrm{ord}[l_2]_{l_1}) \\\\\n",
    "m_{21} = \\max\\{\\min\\{n, s'_1\\} - (s'_1 - s'_2), 0\\} \\\\\n",
    "s'_1 = v_p(l_2 - 1), s'_2 = v_p(\\mathrm{ord}[l_1]_{l_2}).\n",
    "\\end{align*}\n",
    "Also,\n",
    "\\begin{align*}\n",
    "\\langle (c_1(c), d_1(c)), (0, d_2(c)) \\rangle = \\langle (a'_i, b'_i) \\mid i \\in c \\rangle\n",
    "\\end{align*}\n",
    "where\n",
    "\\begin{align*}\n",
    "(a_i, b_i) = p^{n - \\epsilon_i}(a'_i, b'_i)\n",
    "\\end{align*}"
   ]
  },
  {
   "cell_type": "code",
   "execution_count": 25,
   "id": "d1fcd8c3",
   "metadata": {},
   "outputs": [],
   "source": [
    "def M_locally_cyclic(c, d):\n",
    "    try:\n",
    "\n",
    "        # compute c_1(c) and d_2(c)\n",
    "        G = AbelianGroup([p^n, p^n])\n",
    "        H = []\n",
    "        for i in c:\n",
    "            H.append(G((a[i]//p^(n-epsilon[i]), b[i]//p^(n-epsilon[i]))))\n",
    "        H = G.subgroup(H)\n",
    "        c_list = []\n",
    "        d_list = []\n",
    "        for g in G:\n",
    "            cg = G.subgroup([g])\n",
    "            if cg.is_subgroup(H): # g is in H\n",
    "                c_list.append(g.list()[0])\n",
    "                if g.list()[0] == 0:\n",
    "                    d_list.append(g.list()[1])\n",
    "#         for h in H:\n",
    "#             # convert h to an element in G\n",
    "#             h_as_G = G(1)\n",
    "#             for k in range(len(H.gens())):\n",
    "#                 h_as_G = h_as_G * G(tuple(H.gens()[k].list()))^h.list()[k]\n",
    "\n",
    "#             c_list.append(h_as_G.list()[0])\n",
    "#             if h_as_G.list()[0] == 0:\n",
    "#                 d_list.append(h_as_G.list()[1])\n",
    "        c_1_c = gcd(c_list)\n",
    "        d_2_c = gcd(d_list)\n",
    "        return (p^(n-d)*c_1_c) % (p^m21) == 0 and (p^(n-d)*d_2_c) % (p^m12) == 0\n",
    "    except:\n",
    "        print(f\"Error happened. The inputs were c = {c}, d = {d}\")"
   ]
  },
  {
   "cell_type": "code",
   "execution_count": 26,
   "id": "be8e8290",
   "metadata": {},
   "outputs": [
    {
     "data": {
      "text/plain": [
       "True"
      ]
     },
     "execution_count": 26,
     "metadata": {},
     "output_type": "execute_result"
    }
   ],
   "source": [
    "M_locally_cyclic([2, 3, 0], 1)"
   ]
  },
  {
   "cell_type": "markdown",
   "id": "8eadaaea",
   "metadata": {},
   "source": [
    "## Definition 4.9.\n",
    "Define the *patching degree* $\\Delta_r$ of $U_r$ to be the maximum nonnegative integer $d \\leq \\Delta^{\\omega}_r$ satisfying the following:\n",
    "1. If $U_{>r}$ is nonempty, then the field $K_0(d) M_{U_{> r}}(d)$ is locally cyclic.\n",
    "2. If $U_{<r}$ is nonempty, then the field $K_0(d) M_{U_r}(d)$ is locally cyclic.\n",
    "\n",
    "If $U_r = \\mathcal{I}$, we set $\\Delta_r = \\epsilon_0$.\n",
    "We have $\\Delta^{\\omega}_r \\geq \\Delta_r \\geq r$."
   ]
  },
  {
   "cell_type": "code",
   "execution_count": 27,
   "id": "59d1ce94",
   "metadata": {},
   "outputs": [],
   "source": [
    "def Delta(r):\n",
    "    \"\"\"\n",
    "    Return the patching degree of U_r.\n",
    "    \n",
    "    Parameters\n",
    "    ----------\n",
    "    r : int\n",
    "        An integer in the set R.\n",
    "        \n",
    "    Returns\n",
    "    ----------\n",
    "    d : int\n",
    "        The patching degree $\\Delta_r$ of the set $U_r$.\n",
    "    \"\"\"\n",
    "    \n",
    "    U_r = U(r)\n",
    "    \n",
    "    # trivial case\n",
    "    if U_r == I:\n",
    "        return epsilon[0]\n",
    "    \n",
    "    # non-trivial case\n",
    "    \n",
    "    # some constants used later\n",
    "    Delta_omega_r = Delta_omega(r)      # the algebraic patching degree $\\Delta^{\\omega}_r$\n",
    "    U_greater_r = U_greater(r)          # the set $U_{>r}$\n",
    "    U_smaller_r = U_smaller(r)          # the set $U_{<r}$\n",
    "    \n",
    "    # whether we should check two conditions\n",
    "    flag_1 = bool(len(U_greater_r) > 0) # $U_{>r}$ is nonempty\n",
    "    flag_2 = bool(len(U_smaller_r) > 0) # $U_{<r}$ is nonempty\n",
    "    \n",
    "    # Check for each d <= Delta_omega_r\n",
    "    # If d does not satisfy, then d+1 does not, either.\n",
    "    # Thus we let d run from r to Delta_omega_r;\n",
    "    # return d-1 if d does not satisfy the conditions;\n",
    "    # return Delta_omega_r if each d satisfy.\n",
    "    for d in range(r, Delta_omega_r+1):\n",
    "        d_satisfy = True\n",
    "        \n",
    "        if flag_1: # 1. If $U_{>r}$ is nonempty,\n",
    "            if not M_locally_cyclic(U_greater_r + [0], d):\n",
    "                d_satisfy = False\n",
    "            \n",
    "        if flag_2: # 2. If $U_{<r}$ is nonempty,\n",
    "            if not M_locally_cyclic(U_r + [0], d):\n",
    "                d_satisfy = False\n",
    "                \n",
    "        if not d_satisfy:\n",
    "            return d-1\n",
    "    return Delta_omega_r"
   ]
  },
  {
   "cell_type": "markdown",
   "id": "2038869f",
   "metadata": {},
   "source": [
    "A *bicyclic extension* $F/k$ is a Galois extension with $\\mathrm{Gal}(F/k)$ isomorphic to $\\mathbb{Z}/n_1 \\mathbb{Z} \\times \\mathbb{Z}/n_2 \\mathbb{Z}$ where $n_1, n_2 > 1$ and $n_2 \\mid n_1$. (p2)\n",
    "\n",
    "I think that this can be checked by looking at the numbers of elementary divisors of $\\mathrm{Gal}(F/k)$: if there are more than $2$ elementary divisor then $F/k$ is not a bicyclic extension."
   ]
  },
  {
   "cell_type": "code",
   "execution_count": 29,
   "id": "43b3e25f",
   "metadata": {},
   "outputs": [],
   "source": [
    "def is_bicyclic(F):\n",
    "    \"\"\"Check if F is a subfield of a bicyclic extension of k.\n",
    "    \n",
    "    Parameters\n",
    "    ----------\n",
    "    F : sage.rings.number_field.number_field_rel.NumberField_relative_with_category\n",
    "        A number field whose base field is k.\n",
    "    \n",
    "    Returns\n",
    "    ----------\n",
    "    result : bool\n",
    "        True if F is a subfield of a bicyclic extension of k. False if F is not.\n",
    "    \"\"\"\n",
    "    \n",
    "    # convert F to an absolute number field\n",
    "    L.<w> = F.absolute_field()\n",
    "    # compute Gal(F/Q)\n",
    "    G = L.galois_group()\n",
    "    # a generator of k/Q, which is an element in L = F.absolute_field()\n",
    "    k_gen = k.polynomial().roots(ring = L, multiplicities = False)[0]\n",
    "    \n",
    "    # compute Gal(F/k)\n",
    "    k_gal = []\n",
    "    for g in G:\n",
    "        try:\n",
    "            if g(k_gen) == k_gen: # check if the automorphism g fixes k\n",
    "                k_gal.append(g)\n",
    "        except:\n",
    "            print(f\"I can't handle when F is the field {F}.\")\n",
    "    Gal_F_k = G.subgroup(k_gal)\n",
    "    \n",
    "    \n",
    "    if Gal_F_k.is_abelian(): # check if F/k is abelian.\n",
    "        \n",
    "        # Gal_F_k is implemented as a subgroup of permutation group.\n",
    "        # Find a reduced finite presentation of Gal_F_k.\n",
    "        Gal_fin_present = Gal_F_k.as_finitely_presented_group(reduced = True)\n",
    "        \n",
    "        # Find the abelian invariants of Gal_F_k.\n",
    "        gen_orders = [a for a in Gal_fin_present.abelian_invariants()]\n",
    "        \n",
    "        # F is a subfield of a bicyclic extension of k \n",
    "        # <=>\n",
    "        # Gal(F/k) is abelian and has <= 2 invariant factors.\n",
    "        return len(AbelianGroup(gen_orders).elementary_divisors()) <= 2\n",
    "    \n",
    "    else:\n",
    "        return False"
   ]
  },
  {
   "cell_type": "markdown",
   "id": "3b3ba88e",
   "metadata": {},
   "source": [
    "## Definition 5.3\n",
    "For a nonempty $U_r$, let $l_r = L(U_r)$. Let $f \\leq \\Delta^{\\omega}_r$ be a nonnegative integer satisfying the following:\n",
    "1. The field $M_{U_r}(f + l_r - r)$ is a subfield of a bicyclic extension.\n",
    "2. $K_0(f) \\subset M_{U_r}(f + l_r - r)$.\n",
    "\n",
    "Then we set $f^{\\omega}_{U_r}$ to be the largest $f \\leq \\Delta^{\\omega}_r$ satisfying above conditions. We call $f^{\\omega}_{U_r}$ the *algebraic degree of freedom* of $U_r$.\n",
    "\n",
    "## Remark 5.4\n",
    "We have $\\Delta^{\\omega}_r \\geq f^{\\omega}_{U_r} \\geq r$."
   ]
  },
  {
   "cell_type": "markdown",
   "id": "4b379165",
   "metadata": {},
   "source": [
    "For $h \\geq L(U_r)$ and a class $c_0$ of $U_r/\\sim_h$, we define by recursion *the algebraic degree of freedom* of $c \\in c_0/\\sim_{h+1}$ as follows.\n",
    "## Definition 5.5\n",
    "Keep the notation defined as above. Let $f \\leq f^{\\omega}_{c_0}$ be a non-negative integer satisfying the following:\n",
    "1. The field $M_c(f + L(c) - r)$ is a subfield of a bicyclic extension.\n",
    "2. $K_0(f) \\subset M_c(f + L(c) - r)$.\n",
    "\n",
    "Then we set $f^{\\omega}_c$ to be the largest $f \\leq f^{\\omega}_{c_0}$ satisfying above conditions. We call $f^{\\omega}_c$ the *algebraic degree of freedom* of $c$."
   ]
  },
  {
   "cell_type": "code",
   "execution_count": 30,
   "id": "1784f004",
   "metadata": {},
   "outputs": [],
   "source": [
    "# the dictionary of algebraic degree of freedom\n",
    "# key\n",
    "# ---------\n",
    "# c : tuple\n",
    "#     A subset that is an equivalent class of U_r/~h for some h.\n",
    "#\n",
    "# value\n",
    "# ---------\n",
    "# f_omega_c[c] : int\n",
    "#     The algebraic degree of freedom of c.\n",
    "f_omega_c = {}"
   ]
  },
  {
   "cell_type": "code",
   "execution_count": 31,
   "id": "f87486d6",
   "metadata": {
    "scrolled": false
   },
   "outputs": [],
   "source": [
    "def alg_deg_of_freedom(c, r, c0 = None, compute_next_level = True):\n",
    "    \"\"\"Function that constructs the dictionary f_omega_c of algebraic degreee of freedom.\n",
    "    \n",
    "    Parameters\n",
    "    ----------\n",
    "    c : list\n",
    "        An equivalent class of U_r/~h for some integer h. We want to compute its algebraic degree of freedom.\n",
    "    r : int\n",
    "        The index of the set U_r.\n",
    "    c_0 : list\n",
    "        An equivalent class of U_r/~(h-1) for some integer h, and c is an equivalent class of c_0/h.\n",
    "        If c_0 == None then c is some U_r.\n",
    "    \"\"\"\n",
    "    \n",
    "    # case 1: c == U_r for some r\n",
    "    if c0 == None:\n",
    "        U_r = c\n",
    "        \n",
    "        # check if U_r is nonempty\n",
    "        if len(U_r) > 0:\n",
    "            l_r = L(U_r)\n",
    "            Delta_omega_r = Delta_omega(r)\n",
    "            \n",
    "            f_omega_c[tuple(set(U_r))] = Delta_omega_r\n",
    "            for f in range(r, Delta_omega_r + 1):\n",
    "                \n",
    "                # check temp_field can be defined\n",
    "                if min([epsilon[i] for i in U_r]) < f + l_r - r:\n",
    "                    f_omega_c[tuple(set(U_r))] = f-1\n",
    "                    break\n",
    "                    \n",
    "                # the field $M_{U_r}(f + l_r - r)$.\n",
    "                # temp_field = M_composite(U_r, f + l_r - r)\n",
    "                # check if \n",
    "                # (1) temp_field is a subfield of a bicylic extension of k (always true in this special case)\n",
    "                # (2) K_0(f) is a subfield of temp_field\n",
    "                G = AbelianGroup([p^n, p^n])\n",
    "                d = f + l_r - r\n",
    "                W_0_f = G.subgroup([G((a[0]*p^(epsilon[0]-f), b[0]*p^(epsilon[0]-f)))])\n",
    "                W_c_d = []\n",
    "                for i in c:\n",
    "                    W_c_d.append(G((a[i]*p^(epsilon[i]-d), b[i]*p^(epsilon[i]-d))))\n",
    "                W_c_d = G.subgroup(W_c_d)\n",
    "                if W_0_f.is_subgroup(W_c_d):\n",
    "                    continue\n",
    "                else:\n",
    "                    f_omega_c[tuple(set(U_r))] = f-1\n",
    "                    break\n",
    "                \n",
    "#                 a_gcd = gcd([a[j] for j in U_r])\n",
    "#                 b_gcd = gcd([b[j] for j in U_r])\n",
    "#                 if (a_gcd == 0 and a[0] != 0) or (b_gcd == 0 and b[0] != 0):\n",
    "#                     f_omega_c[tuple(set(U_r))] = f-1\n",
    "#                     break\n",
    "#                 if a[0] % a_gcd == 0 and b[0] % b_gcd == 0:\n",
    "#                     continue\n",
    "#                 else:\n",
    "#                     f_omega_c[tuple(set(U_r))] = f-1\n",
    "#                     break\n",
    "            \n",
    "            if compute_next_level:\n",
    "                # compute the next nevel\n",
    "                # if U_r contains only one element then there is no need to compute.\n",
    "                if len(U_r) > 1:\n",
    "                    # l <= h iff. c/~l contains only one equivalence class\n",
    "                    h = l_r\n",
    "                    for cl in equiv_classes(c, h+1):\n",
    "                        alg_deg_of_freedom(cl, r, c)\n",
    "            \n",
    "    # case 2: c0 is a class of U_r\n",
    "    if c0 != None:\n",
    "        \n",
    "        # check if c is empty\n",
    "        if len(c) > 0:\n",
    "            L_c = L(c)\n",
    "            f_omega_c[tuple(set(c))] = f_omega_c[tuple(set(c0))]\n",
    "            \n",
    "            for f in range(1, f_omega_c[tuple(set(c0))] + 1):\n",
    "                \n",
    "                # check temp_field can be defined:\n",
    "                if min([epsilon[i] for i in c]) < f + L_c - r:\n",
    "                    f_omega_c[tuple(set(c))] = f-1\n",
    "                    break\n",
    "                \n",
    "                # the field $M_c(f + L(c) - r)$\n",
    "                # temp_field = M_composite(c, f + L_c - r)\n",
    "                # check if\n",
    "                # (1) temp_field is a subfield of a bicylic extension (always true in this special case)\n",
    "                # (2) K_0(f) is a subfield of temp_field\n",
    "                G = AbelianGroup([p^n, p^n])\n",
    "                d = f + L_c - r\n",
    "                W_0_f = G.subgroup([G((a[0]*p^(epsilon[0]-f), b[0]*p^(epsilon[0]-f)))])\n",
    "                W_c_d = []\n",
    "                for i in c:\n",
    "                    W_c_d.append(G((a[i]*p^(epsilon[i]-d), b[i]*p^(epsilon[i]-d))))\n",
    "                W_c_d = G.subgroup(W_c_d)\n",
    "                if W_c_d.is_subgroup(W_0_f):\n",
    "                    continue\n",
    "                else:\n",
    "                    f_omega_c[tuple(set(c))] = f-1\n",
    "                    break\n",
    "                \n",
    "#                 a_gcd = gcd([a[j] for j in c])\n",
    "#                 b_gcd = gcd([b[j] for j in c])\n",
    "#                 if (a_gcd == 0 and a[0] != 0) or (b_gcd == 0 and b[0] != 0):\n",
    "#                     f_omega_c[tuple(set(c))] = f-1\n",
    "#                     break\n",
    "#                 if a[0] % a_gcd == 0 and b[0] % b_gcd == 0:\n",
    "#                     continue\n",
    "#                 else:\n",
    "#                     f_omega_c[tuple(set(c))] = f-1\n",
    "#                     break\n",
    "                    \n",
    "            if compute_next_level:\n",
    "                # compute the next level\n",
    "                # if c contains only one element then there is no need to compute\n",
    "                if len(c) > 1:\n",
    "                    # l <= L(c) iff. c/~l contains only one equivalence class\n",
    "                    h = L_c\n",
    "                    for cl in equiv_classes(c, h+1):\n",
    "                        alg_deg_of_freedom(cl, r, c)"
   ]
  },
  {
   "cell_type": "code",
   "execution_count": 32,
   "id": "7b67ee6d",
   "metadata": {},
   "outputs": [],
   "source": [
    "# construct the complelte dictionary\n",
    "for r in range(0, epsilon[0]+1):\n",
    "    alg_deg_of_freedom(c = U(r), r = r)"
   ]
  },
  {
   "cell_type": "code",
   "execution_count": 33,
   "id": "86e100f2",
   "metadata": {
    "scrolled": true
   },
   "outputs": [
    {
     "data": {
      "text/plain": [
       "{(1, 2, 3, 4): 3, (1,): 0, (2,): 0, (3,): 0, (4,): 0}"
      ]
     },
     "execution_count": 33,
     "metadata": {},
     "output_type": "execute_result"
    }
   ],
   "source": [
    "f_omega_c"
   ]
  },
  {
   "cell_type": "markdown",
   "id": "00342f4a",
   "metadata": {},
   "source": [
    "## Definition 5.6\n",
    "For a nonempty $U_r$, let $h \\geq L(U_r)$ and $c \\in U_r/\\sim_h$. We define the *degree of freedom* $f_c$ to be the maximum integer $f \\leq f^{\\omega}_c$ such that $M_c(f + L(c) - r)$ is locally cyclic."
   ]
  },
  {
   "cell_type": "code",
   "execution_count": 34,
   "id": "6dc602fd",
   "metadata": {},
   "outputs": [],
   "source": [
    "# the dictionary of degree of freedom\n",
    "# key\n",
    "# ---------\n",
    "# c : tuple\n",
    "#     A subset that is an equivalent class of U_r/~h for some h.\n",
    "#\n",
    "# value\n",
    "# ---------\n",
    "# f_c[c] : int\n",
    "#     The degree of freedom of c.\n",
    "f_c = {}"
   ]
  },
  {
   "cell_type": "code",
   "execution_count": 35,
   "id": "6902ff80",
   "metadata": {},
   "outputs": [],
   "source": [
    "def deg_of_freedom(c, r, compute_next_level = True):\n",
    "    \"\"\"Function that constructs the dictionary f_c of degreee of freedom.\n",
    "    \n",
    "    Parameters\n",
    "    ----------\n",
    "    c : list\n",
    "        An equivalent class of U_r/~h for some integer h. We want to compute its algebraic degree of freedom.\n",
    "    r : int\n",
    "        The index of the set U_r.\n",
    "    \"\"\"\n",
    "    \n",
    "    # check if c is empty\n",
    "    if len(c) > 0:\n",
    "        # convert c to a tuple\n",
    "        c = tuple(set(c))\n",
    "        L_c = L(c)\n",
    "        \n",
    "        # set default value\n",
    "        f = f_omega_c[c]\n",
    "        # check for each f\n",
    "        while(True):\n",
    "            if M_locally_cyclic(c, f + L_c - r):\n",
    "                f_c[c] = f\n",
    "                break\n",
    "            else:\n",
    "                f -= 1\n",
    "        \n",
    "        if compute_next_level:\n",
    "            # compute the next level\n",
    "            if len(c) > 1:\n",
    "                # l <= L(c)  iff. c/~l contains only one equivalence class\n",
    "                h = L_c\n",
    "                for cl in equiv_classes(c, h+1):\n",
    "                    deg_of_freedom(cl, r)"
   ]
  },
  {
   "cell_type": "code",
   "execution_count": 36,
   "id": "592c6a78",
   "metadata": {},
   "outputs": [],
   "source": [
    "# construct the complete dictionary\n",
    "for r in range(0, epsilon[0]+1):\n",
    "    deg_of_freedom(U(r), r)"
   ]
  },
  {
   "cell_type": "code",
   "execution_count": 37,
   "id": "bc6bde87",
   "metadata": {},
   "outputs": [
    {
     "data": {
      "text/plain": [
       "{(1, 2, 3, 4): 1, (1,): -2, (2,): -2, (3,): -1, (4,): -2}"
      ]
     },
     "execution_count": 37,
     "metadata": {},
     "output_type": "execute_result"
    }
   ],
   "source": [
    "f_c"
   ]
  },
  {
   "cell_type": "code",
   "execution_count": 47,
   "id": "5ae899e6",
   "metadata": {},
   "outputs": [
    {
     "name": "stdout",
     "output_type": "stream",
     "text": [
      "3\n",
      "3\n",
      "3\n",
      "3\n"
     ]
    }
   ],
   "source": [
    "for i in range(1, 5):\n",
    "    print(L([i]))"
   ]
  },
  {
   "cell_type": "markdown",
   "id": "bcafe2fc",
   "metadata": {},
   "source": [
    "## Theorem 6.5\n",
    "We have\n",
    "\\begin{align*}\n",
    "Ш^2_{\\omega}(k, \\hat{T}_{L/K}) \\simeq \\bigoplus\\limits_{r \\in \\mathcal{R} \\setminus \\{0\\}} \\mathbb{Z}/p^{\\Delta_r^{\\omega} - r} \\mathbb{Z} \\bigoplus\\limits_{r \\in \\mathcal{R}}\n",
    "\\bigoplus\\limits_{l \\geq L(U_r)} \\bigoplus\\limits_{c \\in U_r/\\sim_l} (\\mathbb{Z}/p^{f^{\\omega}_c - r} \\mathbb{Z})^{n_{l+1}(c) -1}\n",
    "\\end{align*}\n",
    "and\n",
    "\\begin{align*}\n",
    "Ш^1(k, T_{L/K}) \\simeq \\bigoplus\\limits_{r \\in \\mathcal{R} \\setminus \\{0\\}} \\mathbb{Z}/p^{\\Delta_r - r} \\mathbb{Z} \\bigoplus\\limits_{r \\in \\mathcal{R}} \\bigoplus\\limits_{l \\geq L(U_r)} \\bigoplus\\limits_{c \\in U_r/\\sim_l} (\\mathbb{Z}/p^{f_c - r} \\mathbb{Z})^{n_{l+1}(c) -1}\n",
    "\\end{align*}"
   ]
  },
  {
   "cell_type": "code",
   "execution_count": 40,
   "id": "6b3ba567",
   "metadata": {},
   "outputs": [],
   "source": [
    "def sha2omega():\n",
    "    \"\"\"\n",
    "    Return the group Ш^2_w(k, ~T_{L/K}).\n",
    "    \n",
    "    Returns\n",
    "    ----------\n",
    "    G : Multiplicative Abelian Group in Sage.\n",
    "    \"\"\"\n",
    "    \n",
    "    # In Sage, AbelianGroup([0,0,0,2,3]) means\n",
    "    # Multiplicative Abelian group isomorphic to Z x Z x Z x C2 x C3.\n",
    "    \n",
    "    # the list containing p^{Delta^{omega}_r - r}\n",
    "    first_part = []\n",
    "    for r in R:\n",
    "        if r == 0:\n",
    "            continue\n",
    "        if Delta_omega(r)-r >= 0:\n",
    "            first_part.append(p^(Delta_omega(r)-r))\n",
    "            \n",
    "    # the list containing p^{f_c - r}\n",
    "    second_part = []\n",
    "    # 1st direct sum, r in R\\{0}\n",
    "    for r in R:\n",
    "        U_r = U(r)\n",
    "        l = L(U_r)\n",
    "        keep_running = True\n",
    "        # 2nd direct sum, l >= L(U_r)\n",
    "        while(keep_running):\n",
    "            # 3rd direct sum, c in U_r/~l\n",
    "            for c in equiv_classes(U_r, l):\n",
    "                if f_omega_c[tuple(set(c))] - r >= 0:\n",
    "                    # there are (n(l+1, c) - 1) copies of Z/ p^{f^{omega}_c - r} Z\n",
    "                    second_part += [p^(f_omega_c[tuple(set(c))] - r)] * (number_of_equiv_class(l+1, c)-1)\n",
    "                    \n",
    "            if number_of_equiv_class(l, U_r) == len(U_r): # there is no need to use finer partition\n",
    "                keep_running = False\n",
    "            l += 1\n",
    "    return AbelianGroup(first_part + second_part)"
   ]
  },
  {
   "cell_type": "code",
   "execution_count": 41,
   "id": "590c643a",
   "metadata": {
    "scrolled": false
   },
   "outputs": [
    {
     "data": {
      "text/plain": [
       "Multiplicative Abelian group isomorphic to C27 x C27 x C27"
      ]
     },
     "execution_count": 41,
     "metadata": {},
     "output_type": "execute_result"
    }
   ],
   "source": [
    "sha2omega()"
   ]
  },
  {
   "cell_type": "code",
   "execution_count": 42,
   "id": "219e0b62",
   "metadata": {},
   "outputs": [],
   "source": [
    "def sha1():\n",
    "    \"\"\"\n",
    "    Return the group Ш^1(k, T_{L/K}).\n",
    "    \n",
    "    Returns\n",
    "    ----------\n",
    "    G : Multiplicative Abelian Group in Sage.\n",
    "    \"\"\"\n",
    "    \n",
    "    # In Sage, AbelianGroup([0,0,0,2,3]) means\n",
    "    # Multiplicative Abelian group isomorphic to Z x Z x Z x C2 x C3.\n",
    "    \n",
    "    # the list containing p^{Delta_r - r}\n",
    "    first_part = []\n",
    "    for r in R:\n",
    "        if r == 0:\n",
    "            continue\n",
    "        if Delta(r)-r >= 0:\n",
    "            first_part.append(p^(Delta(r)-r))\n",
    "\n",
    "    # the list containing p^{f_c - r}\n",
    "    second_part = []\n",
    "    # 1st direct sum, r in R\\{0}\n",
    "    for r in R:\n",
    "        U_r = U(r)\n",
    "        l = L(U_r)\n",
    "        keep_running = True\n",
    "        # 2nd direct sum, l >= L(U_r)\n",
    "        while(keep_running):\n",
    "            # 3rd direct sum, c in U_r/~l\n",
    "            for c in equiv_classes(U_r, l):\n",
    "                c = tuple(set(c))\n",
    "                if f_c[c] - r >= 0:\n",
    "                    # there are (n(l+1, c) - 1) copies of Z/ p^{f_c - r} Z\n",
    "                    second_part += [p^(f_c[c]-r)]*(number_of_equiv_class(l+1, c)-1)\n",
    "            if number_of_equiv_class(l, U_r) == len(U_r): # there is no need to use finer partition\n",
    "                keep_running = False\n",
    "            l += 1\n",
    "    return AbelianGroup(first_part + second_part)"
   ]
  },
  {
   "cell_type": "code",
   "execution_count": 43,
   "id": "3a435a30",
   "metadata": {
    "scrolled": false
   },
   "outputs": [
    {
     "data": {
      "text/plain": [
       "Multiplicative Abelian group isomorphic to C3 x C3 x C3"
      ]
     },
     "execution_count": 43,
     "metadata": {},
     "output_type": "execute_result"
    }
   ],
   "source": [
    "sha1()"
   ]
  }
 ],
 "metadata": {
  "kernelspec": {
   "display_name": "SageMath 9.6",
   "language": "sage",
   "name": "sagemath-9.6"
  },
  "language_info": {
   "codemirror_mode": {
    "name": "ipython",
    "version": 3
   },
   "file_extension": ".py",
   "mimetype": "text/x-python",
   "name": "python",
   "nbconvert_exporter": "python",
   "pygments_lexer": "ipython3",
   "version": "3.10.3"
  }
 },
 "nbformat": 4,
 "nbformat_minor": 5
}
